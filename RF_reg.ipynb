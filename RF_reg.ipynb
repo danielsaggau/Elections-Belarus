{
 "cells": [
  {
   "cell_type": "code",
   "execution_count": 1,
   "metadata": {},
   "outputs": [],
   "source": [
    "import pandas as pd\n",
    "import numpy as np"
   ]
  },
  {
   "cell_type": "markdown",
   "metadata": {},
   "source": [
    "### Loading the dataset that we created"
   ]
  },
  {
   "cell_type": "code",
   "execution_count": 2,
   "metadata": {},
   "outputs": [
    {
     "name": "stdout",
     "output_type": "stream",
     "text": [
      "<class 'pandas.core.frame.DataFrame'>\n",
      "RangeIndex: 1583 entries, 0 to 1582\n",
      "Data columns (total 47 columns):\n",
      " #   Column                                                                                                                    Non-Null Count  Dtype  \n",
      "---  ------                                                                                                                    --------------  -----  \n",
      " 0   region                                                                                                                    1583 non-null   object \n",
      " 1   city_or_district_within_the_region                                                                                        1583 non-null   object \n",
      " 2   area_in_the_city                                                                                                          1583 non-null   object \n",
      " 3   settlement                                                                                                                1583 non-null   object \n",
      " 4   total_number_of_voters_at_the_polling_station_determined_by_the_list_of_citizens_entitled_to_participate_in_the_election  1583 non-null   float64\n",
      " 5   number_of_voters_who_received_ballots                                                                                     1583 non-null   float64\n",
      " 6   number_of_voters_who_took_part_in_the_voting                                                                              1583 non-null   float64\n",
      " 7   number_of_voters_who_took_part_in_the_early_voting                                                                        1583 non-null   float64\n",
      " 8   number_of_voters_who_took_part_in_voting_at_the_place_of_residence                                                        1583 non-null   float64\n",
      " 9   number_of_voters_who_took_part_in_the_voting_on_election_day_at_the_polling_station                                       1583 non-null   float64\n",
      " 10  Dmitriev                                                                                                                  1583 non-null   float64\n",
      " 11  Kanopatskaya                                                                                                              1583 non-null   float64\n",
      " 12  Lukashenko                                                                                                                1583 non-null   float64\n",
      " 13  Tikhanovskaya                                                                                                             1583 non-null   float64\n",
      " 14  Cherechen                                                                                                                 1583 non-null   float64\n",
      " 15  number_of_votes_for_candidates_who_dropped_out_during_early_voting_period                                                 1583 non-null   float64\n",
      " 16  number_of_votes_againts_all_candidates                                                                                    1583 non-null   float64\n",
      " 17  number_of_votes_against_a_candidate_if_voting_was_held_on_one_candidate                                                   1583 non-null   float64\n",
      " 18  number_of_ballots_declared_invalid                                                                                        1583 non-null   float64\n",
      " 19  number_of_ballots_received_by_election_commission                                                                         1583 non-null   float64\n",
      " 20  number_of_spoiled_ballots                                                                                                 1583 non-null   float64\n",
      " 21  number_of_unused_ballots                                                                                                  1583 non-null   float64\n",
      " 22  attachment1                                                                                                               1583 non-null   object \n",
      " 23  attachment2                                                                                                               1583 non-null   object \n",
      " 24  attachment3                                                                                                               1583 non-null   object \n",
      " 25  attachment4                                                                                                               1583 non-null   object \n",
      " 26  attachment5                                                                                                               1583 non-null   object \n",
      " 27  comment                                                                                                                   1583 non-null   object \n",
      " 28  id                                                                                                                        1583 non-null   int64  \n",
      " 29  parent_id                                                                                                                 1583 non-null   int64  \n",
      " 30  type                                                                                                                      1583 non-null   int64  \n",
      " 31  name                                                                                                                      1583 non-null   object \n",
      " 32  location                                                                                                                  1583 non-null   object \n",
      " 33  description_x                                                                                                             1583 non-null   object \n",
      " 34  latitude                                                                                                                  1583 non-null   float64\n",
      " 35  longitude                                                                                                                 1583 non-null   float64\n",
      " 36  origin                                                                                                                    1583 non-null   object \n",
      " 37  area                                                                                                                      1583 non-null   object \n",
      " 38  commission_id                                                                                                             1583 non-null   int64  \n",
      " 39  work_title                                                                                                                1583 non-null   object \n",
      " 40  description_y                                                                                                             1583 non-null   object \n",
      " 41  doctor                                                                                                                    1583 non-null   int64  \n",
      " 42  army                                                                                                                      1583 non-null   int64  \n",
      " 43  education                                                                                                                 1583 non-null   int64  \n",
      " 44  science                                                                                                                   1583 non-null   int64  \n",
      " 45  prof_union                                                                                                                1583 non-null   int64  \n",
      " 46  economics                                                                                                                 1583 non-null   int64  \n",
      "dtypes: float64(20), int64(10), object(17)\n",
      "memory usage: 581.4+ KB\n"
     ]
    }
   ],
   "source": [
    "df_pls=pd.read_excel(\"df_merge_n.xlsx\")\n",
    "df_pls_pls=df_pls.drop(columns=['Unnamed: 0'])\n",
    "df_pls_pls=df_pls_pls.fillna(0)\n",
    "df_pls_new=df_pls_pls.drop(columns=['commission_code','number_of_cite'])\n",
    "df_pls_new.info()"
   ]
  },
  {
   "cell_type": "code",
   "execution_count": 3,
   "metadata": {},
   "outputs": [],
   "source": [
    "df_merge1=df_pls_new.drop(columns=['attachment1','attachment2','attachment3','attachment4','attachment5','comment','id','type','name','location','origin','area'])"
   ]
  },
  {
   "cell_type": "code",
   "execution_count": 4,
   "metadata": {},
   "outputs": [
    {
     "name": "stdout",
     "output_type": "stream",
     "text": [
      "<class 'pandas.core.frame.DataFrame'>\n",
      "RangeIndex: 1583 entries, 0 to 1582\n",
      "Data columns (total 35 columns):\n",
      " #   Column                                                                                                                    Non-Null Count  Dtype  \n",
      "---  ------                                                                                                                    --------------  -----  \n",
      " 0   region                                                                                                                    1583 non-null   object \n",
      " 1   city_or_district_within_the_region                                                                                        1583 non-null   object \n",
      " 2   area_in_the_city                                                                                                          1583 non-null   object \n",
      " 3   settlement                                                                                                                1583 non-null   object \n",
      " 4   total_number_of_voters_at_the_polling_station_determined_by_the_list_of_citizens_entitled_to_participate_in_the_election  1583 non-null   float64\n",
      " 5   number_of_voters_who_received_ballots                                                                                     1583 non-null   float64\n",
      " 6   number_of_voters_who_took_part_in_the_voting                                                                              1583 non-null   float64\n",
      " 7   number_of_voters_who_took_part_in_the_early_voting                                                                        1583 non-null   float64\n",
      " 8   number_of_voters_who_took_part_in_voting_at_the_place_of_residence                                                        1583 non-null   float64\n",
      " 9   number_of_voters_who_took_part_in_the_voting_on_election_day_at_the_polling_station                                       1583 non-null   float64\n",
      " 10  Dmitriev                                                                                                                  1583 non-null   float64\n",
      " 11  Kanopatskaya                                                                                                              1583 non-null   float64\n",
      " 12  Lukashenko                                                                                                                1583 non-null   float64\n",
      " 13  Tikhanovskaya                                                                                                             1583 non-null   float64\n",
      " 14  Cherechen                                                                                                                 1583 non-null   float64\n",
      " 15  number_of_votes_for_candidates_who_dropped_out_during_early_voting_period                                                 1583 non-null   float64\n",
      " 16  number_of_votes_againts_all_candidates                                                                                    1583 non-null   float64\n",
      " 17  number_of_votes_against_a_candidate_if_voting_was_held_on_one_candidate                                                   1583 non-null   float64\n",
      " 18  number_of_ballots_declared_invalid                                                                                        1583 non-null   float64\n",
      " 19  number_of_ballots_received_by_election_commission                                                                         1583 non-null   float64\n",
      " 20  number_of_spoiled_ballots                                                                                                 1583 non-null   float64\n",
      " 21  number_of_unused_ballots                                                                                                  1583 non-null   float64\n",
      " 22  parent_id                                                                                                                 1583 non-null   int64  \n",
      " 23  description_x                                                                                                             1583 non-null   object \n",
      " 24  latitude                                                                                                                  1583 non-null   float64\n",
      " 25  longitude                                                                                                                 1583 non-null   float64\n",
      " 26  commission_id                                                                                                             1583 non-null   int64  \n",
      " 27  work_title                                                                                                                1583 non-null   object \n",
      " 28  description_y                                                                                                             1583 non-null   object \n",
      " 29  doctor                                                                                                                    1583 non-null   int64  \n",
      " 30  army                                                                                                                      1583 non-null   int64  \n",
      " 31  education                                                                                                                 1583 non-null   int64  \n",
      " 32  science                                                                                                                   1583 non-null   int64  \n",
      " 33  prof_union                                                                                                                1583 non-null   int64  \n",
      " 34  economics                                                                                                                 1583 non-null   int64  \n",
      "dtypes: float64(20), int64(8), object(7)\n",
      "memory usage: 433.0+ KB\n"
     ]
    }
   ],
   "source": [
    "df_merge1.info()"
   ]
  },
  {
   "cell_type": "markdown",
   "metadata": {},
   "source": [
    "### Creating the Lukashenko share of votes variable"
   ]
  },
  {
   "cell_type": "code",
   "execution_count": 5,
   "metadata": {},
   "outputs": [],
   "source": [
    "df_merge1['lukashenko_share']=df_merge1['Lukashenko']/df_merge1['number_of_voters_who_took_part_in_the_voting']"
   ]
  },
  {
   "cell_type": "code",
   "execution_count": 6,
   "metadata": {},
   "outputs": [],
   "source": [
    "df_merge1['lukashenko_share']=df_merge1['lukashenko_share'].replace([np.inf, -np.inf], 0)"
   ]
  },
  {
   "cell_type": "code",
   "execution_count": 7,
   "metadata": {},
   "outputs": [
    {
     "name": "stdout",
     "output_type": "stream",
     "text": [
      "<class 'pandas.core.frame.DataFrame'>\n",
      "RangeIndex: 1583 entries, 0 to 1582\n",
      "Data columns (total 36 columns):\n",
      " #   Column                                                                                                                    Non-Null Count  Dtype  \n",
      "---  ------                                                                                                                    --------------  -----  \n",
      " 0   region                                                                                                                    1583 non-null   object \n",
      " 1   city_or_district_within_the_region                                                                                        1583 non-null   object \n",
      " 2   area_in_the_city                                                                                                          1583 non-null   object \n",
      " 3   settlement                                                                                                                1583 non-null   object \n",
      " 4   total_number_of_voters_at_the_polling_station_determined_by_the_list_of_citizens_entitled_to_participate_in_the_election  1583 non-null   float64\n",
      " 5   number_of_voters_who_received_ballots                                                                                     1583 non-null   float64\n",
      " 6   number_of_voters_who_took_part_in_the_voting                                                                              1583 non-null   float64\n",
      " 7   number_of_voters_who_took_part_in_the_early_voting                                                                        1583 non-null   float64\n",
      " 8   number_of_voters_who_took_part_in_voting_at_the_place_of_residence                                                        1583 non-null   float64\n",
      " 9   number_of_voters_who_took_part_in_the_voting_on_election_day_at_the_polling_station                                       1583 non-null   float64\n",
      " 10  Dmitriev                                                                                                                  1583 non-null   float64\n",
      " 11  Kanopatskaya                                                                                                              1583 non-null   float64\n",
      " 12  Lukashenko                                                                                                                1583 non-null   float64\n",
      " 13  Tikhanovskaya                                                                                                             1583 non-null   float64\n",
      " 14  Cherechen                                                                                                                 1583 non-null   float64\n",
      " 15  number_of_votes_for_candidates_who_dropped_out_during_early_voting_period                                                 1583 non-null   float64\n",
      " 16  number_of_votes_againts_all_candidates                                                                                    1583 non-null   float64\n",
      " 17  number_of_votes_against_a_candidate_if_voting_was_held_on_one_candidate                                                   1583 non-null   float64\n",
      " 18  number_of_ballots_declared_invalid                                                                                        1583 non-null   float64\n",
      " 19  number_of_ballots_received_by_election_commission                                                                         1583 non-null   float64\n",
      " 20  number_of_spoiled_ballots                                                                                                 1583 non-null   float64\n",
      " 21  number_of_unused_ballots                                                                                                  1583 non-null   float64\n",
      " 22  parent_id                                                                                                                 1583 non-null   int64  \n",
      " 23  description_x                                                                                                             1583 non-null   object \n",
      " 24  latitude                                                                                                                  1583 non-null   float64\n",
      " 25  longitude                                                                                                                 1583 non-null   float64\n",
      " 26  commission_id                                                                                                             1583 non-null   int64  \n",
      " 27  work_title                                                                                                                1583 non-null   object \n",
      " 28  description_y                                                                                                             1583 non-null   object \n",
      " 29  doctor                                                                                                                    1583 non-null   int64  \n",
      " 30  army                                                                                                                      1583 non-null   int64  \n",
      " 31  education                                                                                                                 1583 non-null   int64  \n",
      " 32  science                                                                                                                   1583 non-null   int64  \n",
      " 33  prof_union                                                                                                                1583 non-null   int64  \n",
      " 34  economics                                                                                                                 1583 non-null   int64  \n",
      " 35  lukashenko_share                                                                                                          1556 non-null   float64\n",
      "dtypes: float64(21), int64(8), object(7)\n",
      "memory usage: 445.3+ KB\n"
     ]
    }
   ],
   "source": [
    "df_merge1.info()"
   ]
  },
  {
   "cell_type": "code",
   "execution_count": 8,
   "metadata": {},
   "outputs": [],
   "source": [
    "df_merge2=df_merge1.drop(columns=['parent_id','description_x','commission_id','work_title','description_y','city_or_district_within_the_region','area_in_the_city','settlement'])"
   ]
  },
  {
   "cell_type": "code",
   "execution_count": 9,
   "metadata": {},
   "outputs": [
    {
     "data": {
      "text/plain": [
       "Index(['region',\n",
       "       'total_number_of_voters_at_the_polling_station_determined_by_the_list_of_citizens_entitled_to_participate_in_the_election',\n",
       "       'number_of_voters_who_received_ballots',\n",
       "       'number_of_voters_who_took_part_in_the_voting',\n",
       "       'number_of_voters_who_took_part_in_the_early_voting',\n",
       "       'number_of_voters_who_took_part_in_voting_at_the_place_of_residence',\n",
       "       'number_of_voters_who_took_part_in_the_voting_on_election_day_at_the_polling_station',\n",
       "       'Dmitriev', 'Kanopatskaya', 'Lukashenko', 'Tikhanovskaya', 'Cherechen',\n",
       "       'number_of_votes_for_candidates_who_dropped_out_during_early_voting_period',\n",
       "       'number_of_votes_againts_all_candidates',\n",
       "       'number_of_votes_against_a_candidate_if_voting_was_held_on_one_candidate',\n",
       "       'number_of_ballots_declared_invalid',\n",
       "       'number_of_ballots_received_by_election_commission',\n",
       "       'number_of_spoiled_ballots', 'number_of_unused_ballots', 'latitude',\n",
       "       'longitude', 'doctor', 'army', 'education', 'science', 'prof_union',\n",
       "       'economics', 'lukashenko_share'],\n",
       "      dtype='object')"
      ]
     },
     "execution_count": 9,
     "metadata": {},
     "output_type": "execute_result"
    }
   ],
   "source": [
    "df_merge2.columns"
   ]
  },
  {
   "cell_type": "markdown",
   "metadata": {},
   "source": [
    "### Renaming the cell values with their English translation"
   ]
  },
  {
   "cell_type": "code",
   "execution_count": 10,
   "metadata": {},
   "outputs": [
    {
     "data": {
      "text/plain": [
       "array(['Брестская', 0, 'Витебская', 'Гомельская', 'Гродненская',\n",
       "       'Минская', 'Могилевская', 'город Минск'], dtype=object)"
      ]
     },
     "execution_count": 10,
     "metadata": {},
     "output_type": "execute_result"
    }
   ],
   "source": [
    "df_merge2['region'].unique()"
   ]
  },
  {
   "cell_type": "code",
   "execution_count": 11,
   "metadata": {},
   "outputs": [],
   "source": [
    "df_merge2['region']=df_merge2['region'].replace('Брестская','brestskaya')\n",
    "df_merge2['region']=df_merge2['region'].replace('Витебская','vitebskaya')\n",
    "df_merge2['region']=df_merge2['region'].replace('Гомельская','gomelskaya')\n",
    "df_merge2['region']=df_merge2['region'].replace('Гродненская','grodnenskaya')\n",
    "df_merge2['region']=df_merge2['region'].replace('Минская','miskaya')\n",
    "df_merge2['region']=df_merge2['region'].replace('Могилевская','mogilevskaya')\n",
    "df_merge2['region']=df_merge2['region'].replace('город Минск','minsk')\n",
    "df_merge2.region=df_merge2.region.replace(0, 'no_region')"
   ]
  },
  {
   "cell_type": "markdown",
   "metadata": {},
   "source": [
    "### Creating dummies for region"
   ]
  },
  {
   "cell_type": "code",
   "execution_count": 12,
   "metadata": {},
   "outputs": [],
   "source": [
    "df_merge3=pd.get_dummies(df_merge2, 'region')"
   ]
  },
  {
   "cell_type": "code",
   "execution_count": 13,
   "metadata": {},
   "outputs": [
    {
     "name": "stdout",
     "output_type": "stream",
     "text": [
      "<class 'pandas.core.frame.DataFrame'>\n",
      "RangeIndex: 1583 entries, 0 to 1582\n",
      "Data columns (total 35 columns):\n",
      " #   Column                                                                                                                    Non-Null Count  Dtype  \n",
      "---  ------                                                                                                                    --------------  -----  \n",
      " 0   total_number_of_voters_at_the_polling_station_determined_by_the_list_of_citizens_entitled_to_participate_in_the_election  1583 non-null   float64\n",
      " 1   number_of_voters_who_received_ballots                                                                                     1583 non-null   float64\n",
      " 2   number_of_voters_who_took_part_in_the_voting                                                                              1583 non-null   float64\n",
      " 3   number_of_voters_who_took_part_in_the_early_voting                                                                        1583 non-null   float64\n",
      " 4   number_of_voters_who_took_part_in_voting_at_the_place_of_residence                                                        1583 non-null   float64\n",
      " 5   number_of_voters_who_took_part_in_the_voting_on_election_day_at_the_polling_station                                       1583 non-null   float64\n",
      " 6   Dmitriev                                                                                                                  1583 non-null   float64\n",
      " 7   Kanopatskaya                                                                                                              1583 non-null   float64\n",
      " 8   Lukashenko                                                                                                                1583 non-null   float64\n",
      " 9   Tikhanovskaya                                                                                                             1583 non-null   float64\n",
      " 10  Cherechen                                                                                                                 1583 non-null   float64\n",
      " 11  number_of_votes_for_candidates_who_dropped_out_during_early_voting_period                                                 1583 non-null   float64\n",
      " 12  number_of_votes_againts_all_candidates                                                                                    1583 non-null   float64\n",
      " 13  number_of_votes_against_a_candidate_if_voting_was_held_on_one_candidate                                                   1583 non-null   float64\n",
      " 14  number_of_ballots_declared_invalid                                                                                        1583 non-null   float64\n",
      " 15  number_of_ballots_received_by_election_commission                                                                         1583 non-null   float64\n",
      " 16  number_of_spoiled_ballots                                                                                                 1583 non-null   float64\n",
      " 17  number_of_unused_ballots                                                                                                  1583 non-null   float64\n",
      " 18  latitude                                                                                                                  1583 non-null   float64\n",
      " 19  longitude                                                                                                                 1583 non-null   float64\n",
      " 20  doctor                                                                                                                    1583 non-null   int64  \n",
      " 21  army                                                                                                                      1583 non-null   int64  \n",
      " 22  education                                                                                                                 1583 non-null   int64  \n",
      " 23  science                                                                                                                   1583 non-null   int64  \n",
      " 24  prof_union                                                                                                                1583 non-null   int64  \n",
      " 25  economics                                                                                                                 1583 non-null   int64  \n",
      " 26  lukashenko_share                                                                                                          1556 non-null   float64\n",
      " 27  region_brestskaya                                                                                                         1583 non-null   uint8  \n",
      " 28  region_gomelskaya                                                                                                         1583 non-null   uint8  \n",
      " 29  region_grodnenskaya                                                                                                       1583 non-null   uint8  \n",
      " 30  region_minsk                                                                                                              1583 non-null   uint8  \n",
      " 31  region_miskaya                                                                                                            1583 non-null   uint8  \n",
      " 32  region_mogilevskaya                                                                                                       1583 non-null   uint8  \n",
      " 33  region_no_region                                                                                                          1583 non-null   uint8  \n",
      " 34  region_vitebskaya                                                                                                         1583 non-null   uint8  \n",
      "dtypes: float64(21), int64(6), uint8(8)\n",
      "memory usage: 346.4 KB\n"
     ]
    }
   ],
   "source": [
    "df_merge3.info()"
   ]
  },
  {
   "cell_type": "markdown",
   "metadata": {},
   "source": [
    "### Checking if we have na in our dataset"
   ]
  },
  {
   "cell_type": "code",
   "execution_count": 14,
   "metadata": {},
   "outputs": [
    {
     "data": {
      "text/plain": [
       "total_number_of_voters_at_the_polling_station_determined_by_the_list_of_citizens_entitled_to_participate_in_the_election     0\n",
       "number_of_voters_who_received_ballots                                                                                        0\n",
       "number_of_voters_who_took_part_in_the_voting                                                                                 0\n",
       "number_of_voters_who_took_part_in_the_early_voting                                                                           0\n",
       "number_of_voters_who_took_part_in_voting_at_the_place_of_residence                                                           0\n",
       "number_of_voters_who_took_part_in_the_voting_on_election_day_at_the_polling_station                                          0\n",
       "Dmitriev                                                                                                                     0\n",
       "Kanopatskaya                                                                                                                 0\n",
       "Lukashenko                                                                                                                   0\n",
       "Tikhanovskaya                                                                                                                0\n",
       "Cherechen                                                                                                                    0\n",
       "number_of_votes_for_candidates_who_dropped_out_during_early_voting_period                                                    0\n",
       "number_of_votes_againts_all_candidates                                                                                       0\n",
       "number_of_votes_against_a_candidate_if_voting_was_held_on_one_candidate                                                      0\n",
       "number_of_ballots_declared_invalid                                                                                           0\n",
       "number_of_ballots_received_by_election_commission                                                                            0\n",
       "number_of_spoiled_ballots                                                                                                    0\n",
       "number_of_unused_ballots                                                                                                     0\n",
       "latitude                                                                                                                     0\n",
       "longitude                                                                                                                    0\n",
       "doctor                                                                                                                       0\n",
       "army                                                                                                                         0\n",
       "education                                                                                                                    0\n",
       "science                                                                                                                      0\n",
       "prof_union                                                                                                                   0\n",
       "economics                                                                                                                    0\n",
       "lukashenko_share                                                                                                            27\n",
       "region_brestskaya                                                                                                            0\n",
       "region_gomelskaya                                                                                                            0\n",
       "region_grodnenskaya                                                                                                          0\n",
       "region_minsk                                                                                                                 0\n",
       "region_miskaya                                                                                                               0\n",
       "region_mogilevskaya                                                                                                          0\n",
       "region_no_region                                                                                                             0\n",
       "region_vitebskaya                                                                                                            0\n",
       "dtype: int64"
      ]
     },
     "execution_count": 14,
     "metadata": {},
     "output_type": "execute_result"
    }
   ],
   "source": [
    "df_merge3.isna().sum()"
   ]
  },
  {
   "cell_type": "markdown",
   "metadata": {},
   "source": [
    "### We have na, so we need to remove them"
   ]
  },
  {
   "cell_type": "code",
   "execution_count": 15,
   "metadata": {},
   "outputs": [],
   "source": [
    "df_merge3=df_merge3.fillna(0)"
   ]
  },
  {
   "cell_type": "code",
   "execution_count": 16,
   "metadata": {},
   "outputs": [],
   "source": [
    "df_merge3.to_excel(\"df_merge3.xlsx\")"
   ]
  },
  {
   "cell_type": "markdown",
   "metadata": {},
   "source": [
    "### Uploading all the libraries for Machine Learning"
   ]
  },
  {
   "cell_type": "code",
   "execution_count": 17,
   "metadata": {},
   "outputs": [],
   "source": [
    "import matplotlib.pyplot as plt\n",
    "import seaborn as sns\n",
    "from sklearn.ensemble import RandomForestRegressor\n",
    "from sklearn.model_selection import train_test_split\n",
    "from sklearn.preprocessing import LabelEncoder\n",
    "from sklearn.metrics import mean_squared_error, r2_score, mean_absolute_error\n",
    "from sklearn.model_selection import GridSearchCV"
   ]
  },
  {
   "cell_type": "code",
   "execution_count": 18,
   "metadata": {},
   "outputs": [],
   "source": [
    "import numpy as np\n",
    "import pandas as pd\n",
    "import matplotlib.pyplot as plt\n",
    "import seaborn as sns\n",
    "from IPython.display import display\n",
    "import numpy as np\n",
    "import pandas as pd\n",
    "import matplotlib.pyplot as plt\n",
    "import seaborn as sns\n",
    "from IPython.display import display\n",
    "\n",
    "from sklearn.pipeline import Pipeline\n",
    "from sklearn.preprocessing import MinMaxScaler, StandardScaler, RobustScaler\n",
    "from sklearn.model_selection import train_test_split, cross_val_score, GridSearchCV, KFold \n",
    "from sklearn.neighbors import KNeighborsClassifier \n",
    "from sklearn.linear_model import LogisticRegression\n",
    "from sklearn.ensemble import RandomForestClassifier\n",
    "from sklearn.model_selection import StratifiedShuffleSplit\n",
    "from sklearn import svm\n",
    "from sklearn.ensemble import GradientBoostingClassifier\n",
    "from sklearn.preprocessing import PolynomialFeatures\n",
    "from sklearn.tree import DecisionTreeClassifier\n",
    "from sklearn.metrics import f1_score"
   ]
  },
  {
   "cell_type": "markdown",
   "metadata": {},
   "source": [
    "### Creating train and test subsets"
   ]
  },
  {
   "cell_type": "code",
   "execution_count": 19,
   "metadata": {},
   "outputs": [],
   "source": [
    "X=df_merge3.drop(columns=['lukashenko_share','Dmitriev','Kanopatskaya','Lukashenko','Tikhanovskaya','Cherechen']).values\n",
    "y=df_merge3.lukashenko_share.values\n",
    "X_train, X_test, y_train, y_test = train_test_split(X, y, test_size=0.33, random_state=42, \n",
    "                                                    shuffle=True)"
   ]
  },
  {
   "cell_type": "markdown",
   "metadata": {},
   "source": [
    "### Checking the parameters of initial Random Forest"
   ]
  },
  {
   "cell_type": "code",
   "execution_count": 20,
   "metadata": {},
   "outputs": [
    {
     "name": "stdout",
     "output_type": "stream",
     "text": [
      "Parameters currently in use:\n",
      "\n",
      "{'bootstrap': True,\n",
      " 'ccp_alpha': 0.0,\n",
      " 'criterion': 'mse',\n",
      " 'max_depth': None,\n",
      " 'max_features': 'auto',\n",
      " 'max_leaf_nodes': None,\n",
      " 'max_samples': None,\n",
      " 'min_impurity_decrease': 0.0,\n",
      " 'min_impurity_split': None,\n",
      " 'min_samples_leaf': 1,\n",
      " 'min_samples_split': 2,\n",
      " 'min_weight_fraction_leaf': 0.0,\n",
      " 'n_estimators': 100,\n",
      " 'n_jobs': None,\n",
      " 'oob_score': False,\n",
      " 'random_state': 42,\n",
      " 'verbose': 0,\n",
      " 'warm_start': False}\n"
     ]
    }
   ],
   "source": [
    "rf = RandomForestRegressor(random_state = 42)\n",
    "from pprint import pprint\n",
    "print('Parameters currently in use:\\n')\n",
    "pprint(rf.get_params())"
   ]
  },
  {
   "cell_type": "markdown",
   "metadata": {},
   "source": [
    "### Selecting hyperparameters that we want to check in RandomizedSearchCV"
   ]
  },
  {
   "cell_type": "code",
   "execution_count": 21,
   "metadata": {},
   "outputs": [
    {
     "name": "stdout",
     "output_type": "stream",
     "text": [
      "{'bootstrap': [True, False],\n",
      " 'max_depth': [10, 20, 30, 40, 50, 60, 70, 80, 90, 100, None],\n",
      " 'max_features': ['auto', 'sqrt'],\n",
      " 'min_samples_leaf': [1, 2, 3, 4, 5, 6],\n",
      " 'min_samples_split': [2, 4, 6, 8, 10, 13, 15, 18],\n",
      " 'n_estimators': [100,\n",
      "                  200,\n",
      "                  300,\n",
      "                  400,\n",
      "                  500,\n",
      "                  600,\n",
      "                  700,\n",
      "                  800,\n",
      "                  900,\n",
      "                  1000,\n",
      "                  1100,\n",
      "                  1200,\n",
      "                  1300,\n",
      "                  1400,\n",
      "                  1500,\n",
      "                  1600,\n",
      "                  1700,\n",
      "                  1800,\n",
      "                  1900,\n",
      "                  2000]}\n"
     ]
    }
   ],
   "source": [
    "from sklearn.model_selection import RandomizedSearchCV\n",
    "n_estimators = [int(x) for x in np.linspace(start = 100, stop = 2000, num = 20)]\n",
    "max_features = ['auto', 'sqrt']\n",
    "max_depth = [int(x) for x in np.linspace(10, 100, num = 10)]\n",
    "max_depth.append(None)\n",
    "min_samples_split = [2, 4, 6, 8, 10, 13, 15, 18]\n",
    "min_samples_leaf = [1, 2, 3, 4, 5, 6]\n",
    "bootstrap = [True, False]\n",
    "random_grid = {'n_estimators': n_estimators,\n",
    "               'max_features': max_features,\n",
    "               'max_depth': max_depth,\n",
    "               'min_samples_split': min_samples_split,\n",
    "               'min_samples_leaf': min_samples_leaf,\n",
    "               'bootstrap': bootstrap}\n",
    "pprint(random_grid)"
   ]
  },
  {
   "cell_type": "markdown",
   "metadata": {},
   "source": [
    "### Searching for the best parameters"
   ]
  },
  {
   "cell_type": "code",
   "execution_count": 22,
   "metadata": {},
   "outputs": [
    {
     "name": "stdout",
     "output_type": "stream",
     "text": [
      "Fitting 10 folds for each of 100 candidates, totalling 1000 fits\n"
     ]
    },
    {
     "name": "stderr",
     "output_type": "stream",
     "text": [
      "[Parallel(n_jobs=-1)]: Using backend LokyBackend with 12 concurrent workers.\n",
      "[Parallel(n_jobs=-1)]: Done  17 tasks      | elapsed:   16.0s\n",
      "[Parallel(n_jobs=-1)]: Done 138 tasks      | elapsed:  1.5min\n",
      "[Parallel(n_jobs=-1)]: Done 341 tasks      | elapsed:  4.0min\n",
      "[Parallel(n_jobs=-1)]: Done 624 tasks      | elapsed:  7.8min\n",
      "[Parallel(n_jobs=-1)]: Done 1000 out of 1000 | elapsed: 12.6min finished\n"
     ]
    },
    {
     "data": {
      "text/plain": [
       "RandomizedSearchCV(cv=10, error_score=nan,\n",
       "                   estimator=RandomForestRegressor(bootstrap=True,\n",
       "                                                   ccp_alpha=0.0,\n",
       "                                                   criterion='mse',\n",
       "                                                   max_depth=None,\n",
       "                                                   max_features='auto',\n",
       "                                                   max_leaf_nodes=None,\n",
       "                                                   max_samples=None,\n",
       "                                                   min_impurity_decrease=0.0,\n",
       "                                                   min_impurity_split=None,\n",
       "                                                   min_samples_leaf=1,\n",
       "                                                   min_samples_split=2,\n",
       "                                                   min_weight_fraction_leaf=0.0,\n",
       "                                                   n_estimators=100,\n",
       "                                                   n_jobs=None, oob_score=Fal...\n",
       "                                        'max_depth': [10, 20, 30, 40, 50, 60,\n",
       "                                                      70, 80, 90, 100, None],\n",
       "                                        'max_features': ['auto', 'sqrt'],\n",
       "                                        'min_samples_leaf': [1, 2, 3, 4, 5, 6],\n",
       "                                        'min_samples_split': [2, 4, 6, 8, 10,\n",
       "                                                              13, 15, 18],\n",
       "                                        'n_estimators': [100, 200, 300, 400,\n",
       "                                                         500, 600, 700, 800,\n",
       "                                                         900, 1000, 1100, 1200,\n",
       "                                                         1300, 1400, 1500, 1600,\n",
       "                                                         1700, 1800, 1900,\n",
       "                                                         2000]},\n",
       "                   pre_dispatch='2*n_jobs', random_state=42, refit=True,\n",
       "                   return_train_score=False, scoring=None, verbose=2)"
      ]
     },
     "execution_count": 22,
     "metadata": {},
     "output_type": "execute_result"
    }
   ],
   "source": [
    "rf = RandomForestRegressor()\n",
    "rf_random = RandomizedSearchCV(estimator = rf, param_distributions = random_grid, n_iter = 100, cv = 10, verbose=2, random_state=42, n_jobs = -1)\n",
    "rf_random.fit(X_train, y_train)"
   ]
  },
  {
   "cell_type": "code",
   "execution_count": 23,
   "metadata": {},
   "outputs": [
    {
     "data": {
      "text/plain": [
       "{'n_estimators': 1200,\n",
       " 'min_samples_split': 4,\n",
       " 'min_samples_leaf': 2,\n",
       " 'max_features': 'sqrt',\n",
       " 'max_depth': 100,\n",
       " 'bootstrap': True}"
      ]
     },
     "execution_count": 23,
     "metadata": {},
     "output_type": "execute_result"
    }
   ],
   "source": [
    "rf_random.best_params_"
   ]
  },
  {
   "cell_type": "code",
   "execution_count": 24,
   "metadata": {},
   "outputs": [
    {
     "name": "stdout",
     "output_type": "stream",
     "text": [
      "train accuracy: 0.87562\n",
      "test accuracy: 0.60719\n"
     ]
    }
   ],
   "source": [
    "y_pred=rf_random.predict(X_test)\n",
    "print('train accuracy: {:.5f}'.format(rf_random.score(X_train, y_train)))\n",
    "print('test accuracy: {:.5f}'.format(rf_random.score(X_test, y_test))) "
   ]
  },
  {
   "cell_type": "markdown",
   "metadata": {},
   "source": [
    "### Plotting feature importances, we take the list of importances and the list of features"
   ]
  },
  {
   "cell_type": "code",
   "execution_count": 25,
   "metadata": {},
   "outputs": [
    {
     "data": {
      "text/plain": [
       "['total_number_of_voters_at_the_polling_station_determined_by_the_list_of_citizens_entitled_to_participate_in_the_election',\n",
       " 'number_of_voters_who_received_ballots',\n",
       " 'number_of_voters_who_took_part_in_the_voting',\n",
       " 'number_of_voters_who_took_part_in_the_early_voting',\n",
       " 'number_of_voters_who_took_part_in_voting_at_the_place_of_residence',\n",
       " 'number_of_voters_who_took_part_in_the_voting_on_election_day_at_the_polling_station',\n",
       " 'number_of_votes_for_candidates_who_dropped_out_during_early_voting_period',\n",
       " 'number_of_votes_againts_all_candidates',\n",
       " 'number_of_votes_against_a_candidate_if_voting_was_held_on_one_candidate',\n",
       " 'number_of_ballots_declared_invalid',\n",
       " 'number_of_ballots_received_by_election_commission',\n",
       " 'number_of_spoiled_ballots',\n",
       " 'number_of_unused_ballots',\n",
       " 'latitude',\n",
       " 'longitude',\n",
       " 'doctor',\n",
       " 'army',\n",
       " 'education',\n",
       " 'science',\n",
       " 'prof_union',\n",
       " 'economics',\n",
       " 'region_brestskaya',\n",
       " 'region_gomelskaya',\n",
       " 'region_grodnenskaya',\n",
       " 'region_minsk',\n",
       " 'region_miskaya',\n",
       " 'region_mogilevskaya',\n",
       " 'region_no_region',\n",
       " 'region_vitebskaya']"
      ]
     },
     "execution_count": 25,
     "metadata": {},
     "output_type": "execute_result"
    }
   ],
   "source": [
    "importance_values=rf_random.best_estimator_.feature_importances_\n",
    "feature_importance_labels=df_merge3.drop(columns=['lukashenko_share','Dmitriev', 'Kanopatskaya', 'Lukashenko', 'Tikhanovskaya', 'Cherechen'])\n",
    "column_names=list(feature_importance_labels.columns)\n",
    "column_names"
   ]
  },
  {
   "cell_type": "code",
   "execution_count": 26,
   "metadata": {},
   "outputs": [],
   "source": [
    "values_imp=list(importance_values)"
   ]
  },
  {
   "cell_type": "code",
   "execution_count": 27,
   "metadata": {},
   "outputs": [
    {
     "data": {
      "image/png": "[encoded data removed]",
      "text/plain": [
       "<Figure size 432x288 with 1 Axes>"
      ]
     },
     "metadata": {
      "needs_background": "light"
     },
     "output_type": "display_data"
    }
   ],
   "source": [
    "import numpy as np\n",
    "import matplotlib.pyplot as plt \n",
    " \n",
    "courses = ['total','receiv','tookpart','earlvote','residence','electday','dur_earl_vot','againts_all','held_on','invalid','rec_comm','spoiled','unusedb','latitude','longitude','doctor','army','education','science','prof_union','economics','brest','gomel', 'grod','minsk','miskaya','mogilev','no_region','vitebsk']\n",
    "values = values_imp\n",
    "\n",
    "plt.bar(courses, values, color ='blue')\n",
    "\n",
    "plt.xticks(rotation = 90)\n",
    "plt.show()"
   ]
  },
  {
   "cell_type": "markdown",
   "metadata": {},
   "source": [
    "In the feature importance plot we can see that the longitude variable has a relatively high importance, also we see that the dummies for region have a little higher importances, than the occupation dummies. The number of votes againts all candidates has not a high importance, but still it is prominent. Since the hypothesis of our study is that the occupation of commission members should not have high importance, the results show that we can't reject the hypothesis. Now we move to Lasso model, PCA and LDA to see if we get more findings by using these methods."
   ]
  },
  {
   "cell_type": "code",
   "execution_count": null,
   "metadata": {},
   "outputs": [],
   "source": []
  }
 ],
 "metadata": {
  "kernelspec": {
   "display_name": "Python 3",
   "language": "python",
   "name": "python3"
  },
  "language_info": {
   "codemirror_mode": {
    "name": "ipython",
    "version": 3
   },
   "file_extension": ".py",
   "mimetype": "text/x-python",
   "name": "python",
   "nbconvert_exporter": "python",
   "pygments_lexer": "ipython3",
   "version": "3.7.6"
  }
 },
 "nbformat": 4,
 "nbformat_minor": 4
}
