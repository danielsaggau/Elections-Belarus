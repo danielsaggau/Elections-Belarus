{
  "nbformat": 4,
  "nbformat_minor": 0,
  "metadata": {
    "colab": {
      "name": "Belarus ML Full Analysis.ipynb",
      "provenance": [],
      "collapsed_sections": [],
      "authorship_tag": "ABX9TyNEpVH5In9dZR2Z6hJL+yGW",
      "include_colab_link": true
    },
    "kernelspec": {
      "name": "python3",
      "display_name": "Python 3"
    }
  },
  "cells": [
    {
      "cell_type": "markdown",
      "metadata": {
        "id": "view-in-github",
        "colab_type": "text"
      },
      "source": [
        "<a href=\"https://colab.research.google.com/github/danielsaggau/Elections-Belarus/blob/main/Belarus_ML_Full_Analysis.ipynb\" target=\"_parent\"><img src=\"https://colab.research.google.com/assets/colab-badge.svg\" alt=\"Open In Colab\"/></a>"
      ]
    },
    {
      "cell_type": "markdown",
      "metadata": {
        "id": "aUsx07PLrgMa"
      },
      "source": [
        "# Data Cleansing \n",
        "\n",
        "In the first part of this analysis, we need to undertake some pre-processing steps. \n"
      ]
    },
    {
      "cell_type": "code",
      "metadata": {
        "id": "HOuLBwofEYYc"
      },
      "source": [
        "import pandas as pd\n",
        "import numpy as np\n",
        "df_pls=pd.read_excel(\"/df_merge_n.xlsx\")"
      ],
      "execution_count": 57,
      "outputs": []
    },
    {
      "cell_type": "code",
      "metadata": {
        "id": "BBryEZuZHKQb"
      },
      "source": [
        "df_pls_pls=df_pls.drop(columns=['Unnamed: 0'])\n",
        "df_pls_pls=df_pls_pls.fillna(0)\n",
        "df_pls_new=df_pls_pls.drop(columns=['commission_code','number_of_cite'])\n",
        "df_pls_new.info()"
      ],
      "execution_count": null,
      "outputs": []
    },
    {
      "cell_type": "code",
      "metadata": {
        "id": "TnEN3jXtHT5r"
      },
      "source": [
        "df_merge1=df_pls_new.drop(columns=['attachment1','attachment2','attachment3','attachment4','attachment5','comment','id','type','name','location','origin','area'])\n",
        "df_merge1.info()"
      ],
      "execution_count": null,
      "outputs": []
    },
    {
      "cell_type": "markdown",
      "metadata": {
        "id": "xAmpDVw6yCTc"
      },
      "source": [
        "# Feature Engineering \n",
        "We can now calculate the share of votes for Lukashenko. "
      ]
    },
    {
      "cell_type": "code",
      "metadata": {
        "id": "PuUEJ6mqHgLG"
      },
      "source": [
        "df_merge1['lukashenko_share']=df_merge1['Lukashenko']/df_merge1['number_of_voters_who_took_part_in_the_voting']\n",
        "df_merge1['lukashenko_share']=df_merge1['lukashenko_share'].replace([np.inf, -np.inf], 0)\n",
        "df_merge1.info()"
      ],
      "execution_count": null,
      "outputs": []
    },
    {
      "cell_type": "markdown",
      "metadata": {
        "id": "B4fzMvQbyBeQ"
      },
      "source": [
        "Now, we can drop some of the obsolete columns. "
      ]
    },
    {
      "cell_type": "code",
      "metadata": {
        "id": "jWA9G7OXHnih"
      },
      "source": [
        "df_merge2=df_merge1.drop(columns=['parent_id','description_x','commission_id','work_title','description_y','city_or_district_within_the_region','area_in_the_city','settlement'])"
      ],
      "execution_count": null,
      "outputs": []
    },
    {
      "cell_type": "code",
      "metadata": {
        "id": "HkENN5lDHqSw"
      },
      "source": [
        "df_merge2.columns"
      ],
      "execution_count": null,
      "outputs": []
    },
    {
      "cell_type": "code",
      "metadata": {
        "id": "yp9NQuOxHsiF"
      },
      "source": [
        "df_merge2['region'].unique()"
      ],
      "execution_count": null,
      "outputs": []
    },
    {
      "cell_type": "markdown",
      "metadata": {
        "id": "iZsFOzaYwzZh"
      },
      "source": [
        "Next we need to rename the regions and change no region to 0: "
      ]
    },
    {
      "cell_type": "code",
      "metadata": {
        "id": "eho6rxJaIw2A"
      },
      "source": [
        "df_merge2['region']=df_merge2['region'].replace('Брестская','brestskaya')\n",
        "df_merge2['region']=df_merge2['region'].replace('Витебская','vitebskaya')\n",
        "df_merge2['region']=df_merge2['region'].replace('Гомельская','gomelskaya')\n",
        "df_merge2['region']=df_merge2['region'].replace('Гродненская','grodnenskaya')\n",
        "df_merge2['region']=df_merge2['region'].replace('Минская','miskaya')\n",
        "df_merge2['region']=df_merge2['region'].replace('Могилевская','mogilevskaya')\n",
        "df_merge2['region']=df_merge2['region'].replace('город Минск','minsk')\n",
        "df_merge2.region=df_merge2.region.replace(0, 'no_region')"
      ],
      "execution_count": null,
      "outputs": []
    },
    {
      "cell_type": "markdown",
      "metadata": {
        "id": "sfVGGZOHxCL5"
      },
      "source": [
        "Based on this variable, we can craete dummy variables for each region. "
      ]
    },
    {
      "cell_type": "code",
      "metadata": {
        "id": "HroxKbOfw411"
      },
      "source": [
        "df_merge3=pd.get_dummies(df_merge2, 'region')"
      ],
      "execution_count": null,
      "outputs": []
    },
    {
      "cell_type": "markdown",
      "metadata": {
        "id": "eqGnIKjYxEhR"
      },
      "source": [
        "We can save this dataset as an intermediate dataset.\n",
        "We also save a version without the region dummies for the regression analysis thereafter, due to the limited number of observations for some regions that could become problematic later on."
      ]
    },
    {
      "cell_type": "code",
      "metadata": {
        "id": "dLBsMMaRIzxG"
      },
      "source": [
        "df_merge3.info()\n",
        "df_merge3=df_merge3.fillna(0)\n",
        "df_merge_d=df_merge2.fillna(0)\n",
        "df_merge_d.to_excel(\"df_merge_d.xlsx\")"
      ],
      "execution_count": null,
      "outputs": []
    },
    {
      "cell_type": "markdown",
      "metadata": {
        "id": "yNz7TbsnxQZY"
      },
      "source": [
        "# Random Forest for Feature Selection \n",
        "\n",
        "In this section we use a random forest for feature selection.\n",
        "This section is structured as follows:\n",
        "\n",
        "1. Specifying our model structure and removing variables that are not needed or variables that should be included for the prediction  \n",
        "2. Splitting the data set into training and test set \n",
        "3. Running the algorithm, using cross validation\n",
        "4. Plot the feature importance per feature "
      ]
    },
    {
      "cell_type": "code",
      "metadata": {
        "id": "MfwwUmz6Kkz9"
      },
      "source": [
        "import numpy as np\n",
        "import pandas as pd\n",
        "import matplotlib.pyplot as plt\n",
        "import seaborn as sns\n",
        "from IPython.display import display\n",
        "import numpy as np\n",
        "import pandas as pd\n",
        "import matplotlib.pyplot as plt\n",
        "import seaborn as sns\n",
        "from IPython.display import display\n",
        "\n",
        "from sklearn.ensemble import RandomForestRegressor\n",
        "from sklearn.model_selection import train_test_split\n",
        "from sklearn.preprocessing import LabelEncoder\n",
        "from sklearn.metrics import mean_squared_error, r2_score, mean_absolute_error\n",
        "from sklearn.model_selection import GridSearchCV\n",
        "from sklearn.pipeline import Pipeline\n",
        "from sklearn.preprocessing import MinMaxScaler, StandardScaler, RobustScaler\n",
        "from sklearn.model_selection import train_test_split, cross_val_score, GridSearchCV, KFold \n",
        "from sklearn.neighbors import KNeighborsClassifier \n",
        "from sklearn.linear_model import LogisticRegression\n",
        "from sklearn.ensemble import RandomForestClassifier\n",
        "from sklearn.model_selection import StratifiedShuffleSplit\n",
        "from sklearn import svm\n",
        "from sklearn.ensemble import GradientBoostingClassifier\n",
        "from sklearn.preprocessing import PolynomialFeatures\n",
        "from sklearn.tree import DecisionTreeClassifier\n",
        "from sklearn.metrics import f1_score"
      ],
      "execution_count": null,
      "outputs": []
    },
    {
      "cell_type": "markdown",
      "metadata": {
        "id": "AUlMaiaUsWy_"
      },
      "source": [
        "# Splitting the Dataset and specifying our dependent Variable\n",
        "\n"
      ]
    },
    {
      "cell_type": "code",
      "metadata": {
        "id": "2RR0M77aQwio"
      },
      "source": [
        "\n",
        "# обязательный код\n",
        "X=df_merge3.drop(columns=['lukashenko_share','Dmitriev','Kanopatskaya','Lukashenko','Tikhanovskaya','Cherechen']).values\n",
        "y=df_merge3.lukashenko_share.values\n",
        "# сплитуйте X и y как хотите\n",
        "X_train, X_test, y_train, y_test = train_test_split(X, y, test_size=0.33, random_state=42, \n",
        "                                                    shuffle=True)"
      ],
      "execution_count": null,
      "outputs": []
    },
    {
      "cell_type": "markdown",
      "metadata": {
        "id": "b2o6YaZnx2CQ"
      },
      "source": [
        "Next we can instantiate our RF regressor."
      ]
    },
    {
      "cell_type": "code",
      "metadata": {
        "id": "9UrHRNrSQ2D3"
      },
      "source": [
        "rf = RandomForestRegressor(random_state = 42)\n",
        "from pprint import pprint\n",
        "# Look at parameters used by our current forest\n",
        "print('Parameters currently in use:\\n')\n",
        "pprint(rf.get_params())"
      ],
      "execution_count": null,
      "outputs": []
    },
    {
      "cell_type": "markdown",
      "metadata": {
        "id": "ve6f0_mqx9MB"
      },
      "source": [
        ""
      ]
    },
    {
      "cell_type": "code",
      "metadata": {
        "id": "LpsSI3nuQ7wa"
      },
      "source": [
        "from sklearn.model_selection import RandomizedSearchCV\n",
        "# Number of trees in random forest\n",
        "n_estimators = [int(x) for x in np.linspace(start = 200, stop = 1600, num = 8)]\n",
        "# Number of features to consider at every split\n",
        "max_features = ['auto', 'sqrt']\n",
        "# Maximum number of levels in tree\n",
        "max_depth = [int(x) for x in np.linspace(10, 90, num = 9)]\n",
        "max_depth.append(None)\n",
        "# Minimum number of samples required to split a node\n",
        "min_samples_split = [2, 5, 10]\n",
        "# Minimum number of samples required at each leaf node\n",
        "min_samples_leaf = [1, 2, 4]\n",
        "# Method of selecting samples for training each tree\n",
        "bootstrap = [True, False]\n",
        "# Create the random grid\n",
        "random_grid = {'n_estimators': n_estimators,\n",
        "               'max_features': max_features,\n",
        "               'max_depth': max_depth,\n",
        "               'min_samples_split': min_samples_split,\n",
        "               'min_samples_leaf': min_samples_leaf,\n",
        "               'bootstrap': bootstrap}\n",
        "pprint(random_grid)"
      ],
      "execution_count": null,
      "outputs": []
    },
    {
      "cell_type": "code",
      "metadata": {
        "id": "NTQFhSVgQ-uM"
      },
      "source": [
        "# Use the random grid to search for best hyperparameters\n",
        "# First create the base model to tune\n",
        "rf = RandomForestRegressor()\n",
        "# Random search of parameters, using 3 fold cross validation, \n",
        "# search across 100 different combinations, and use all available cores\n",
        "rf_random = RandomizedSearchCV(estimator = rf, param_distributions = random_grid, n_iter = 100, cv = 3, verbose=2, random_state=42, n_jobs = -1)\n",
        "# Fit the random search model\n",
        "rf_random.fit(X_train, y_train)"
      ],
      "execution_count": null,
      "outputs": []
    },
    {
      "cell_type": "code",
      "metadata": {
        "id": "Gt-aYEAwqbik"
      },
      "source": [
        "rf_random.best_params_\n",
        "y_pred=rf_random.predict(X_test)\n",
        "print('Правильность на обучающем наборе: {:.5f}'.format(rf_random.score(X_train, y_train)))\n",
        "print('Правильность на тестовом наборе: {:.5f}'.format(rf_random.score(X_test, y_test)))"
      ],
      "execution_count": null,
      "outputs": []
    },
    {
      "cell_type": "code",
      "metadata": {
        "id": "C7N4IZCSqhdd"
      },
      "source": [
        "importance_values=rf_random.best_estimator_.feature_importances_"
      ],
      "execution_count": null,
      "outputs": []
    },
    {
      "cell_type": "code",
      "metadata": {
        "id": "9esV4JXDqjnh"
      },
      "source": [
        "importances = rf_random.best_estimator_.feature_importances_\n",
        "std = np.std([tree.feature_importances_ for tree in rf_random.best_estimator_],\n",
        "             axis=0)\n",
        "indices = np.argsort(importances)\n",
        "\n",
        "# Plot the feature importances of the forest\n",
        "plt.figure()\n",
        "plt.title(\"Feature importances\")\n",
        "plt.barh(range(X.shape[1]), importances[indices],\n",
        "       color=\"b\", xerr=std[indices], align=\"center\")\n",
        "# If you want to define your own labels,\n",
        "# change indices to a list of labels on the following line.\n",
        "plt.yticks(range(X.shape[1]), indices)\n",
        "plt.ylim([-1, X.shape[1]])\n",
        "plt.show()"
      ],
      "execution_count": null,
      "outputs": []
    },
    {
      "cell_type": "code",
      "metadata": {
        "id": "rIrHRb5zqmHc"
      },
      "source": [
        "feature_importance_labels=df_merge3.drop(columns=['lukashenko_share','Dmitriev', 'Kanopatskaya', 'Lukashenko', 'Tikhanovskaya', 'Cherechen'])"
      ],
      "execution_count": null,
      "outputs": []
    },
    {
      "cell_type": "code",
      "metadata": {
        "id": "vksgHsttqoEk"
      },
      "source": [
        "column_names=list(feature_importance_labels.columns)"
      ],
      "execution_count": null,
      "outputs": []
    },
    {
      "cell_type": "code",
      "metadata": {
        "id": "oIPsLwWEqqEQ"
      },
      "source": [
        "column_names"
      ],
      "execution_count": null,
      "outputs": []
    },
    {
      "cell_type": "code",
      "metadata": {
        "id": "2ILaIdANqsD0"
      },
      "source": [
        "values_imp=list(importance_values)"
      ],
      "execution_count": null,
      "outputs": []
    },
    {
      "cell_type": "code",
      "metadata": {
        "id": "aqU9B2omqt_z"
      },
      "source": [
        "import numpy as np\n",
        "import matplotlib.pyplot as plt \n",
        " \n",
        "courses = ['total','receiv','tookpart','earlvoting','residence','electday','dur_earl_vot','againts_all','held_on','invalid','rec_comm','spoiled','unusedb','latitude','longitude','doctor','army','education','science','prof_union','economics','brest','gomel', 'grod','minsk','miskaya','mogilev','no_region','vitebsk']\n",
        "values = values_imp\n",
        "\n",
        "plt.bar(courses, values, color ='blue')\n",
        "\n",
        "plt.xticks(rotation = 60)\n",
        "plt.show()"
      ],
      "execution_count": null,
      "outputs": []
    },
    {
      "cell_type": "code",
      "metadata": {
        "id": "yFBGdDL-qv5e"
      },
      "source": [
        "df_merge3.isna().sum()"
      ],
      "execution_count": null,
      "outputs": []
    },
    {
      "cell_type": "markdown",
      "metadata": {
        "id": "2TAk4vCMn4b5"
      },
      "source": [
        "\n",
        "# Feature Selection, Regression Analysis and Exploratory Data Analysis in R\n",
        "We undertake the regression models in R. \n",
        "The following sections are structured as follows: \n",
        "\n",
        "1.   Lasso Regression compared to a naive model \n",
        "2.   Regression model with the selected features for LASSO\n",
        "3.   Regression model with the selected features for the random forest \n",
        "4.   Feature importance in lasso regression compared to the random forest.  \n",
        "5.   Exploration of unsupervised learning methods Part 1: Principal Component Analysis \n",
        "6.   Exploration of unsupervised learning methods Part 2: Latent Dirichlet Allocation \n",
        "7.   Geospatial Analysis of Voting Behaviour \n",
        "\n",
        "Prior to including R code, we need to install 'rpy2' package.\n",
        "Further, every cell needs to start with %%R for the Markdown file to differentiate between R code and Python code."
      ]
    },
    {
      "cell_type": "code",
      "metadata": {
        "colab": {
          "base_uri": "https://localhost:8080/"
        },
        "id": "L--2hJ7TrLgB",
        "outputId": "22f55ee7-2b5d-4d0d-b41d-2d872ab1a89d"
      },
      "source": [
        "!pip install rpy2\n",
        "%load_ext rpy2.ipython"
      ],
      "execution_count": 6,
      "outputs": [
        {
          "output_type": "stream",
          "text": [
            "Requirement already satisfied: rpy2 in /usr/local/lib/python3.7/dist-packages (3.4.2)\n",
            "Requirement already satisfied: tzlocal in /usr/local/lib/python3.7/dist-packages (from rpy2) (1.5.1)\n",
            "Requirement already satisfied: cffi>=1.10.0 in /usr/local/lib/python3.7/dist-packages (from rpy2) (1.14.5)\n",
            "Requirement already satisfied: jinja2 in /usr/local/lib/python3.7/dist-packages (from rpy2) (2.11.3)\n",
            "Requirement already satisfied: pytz in /usr/local/lib/python3.7/dist-packages (from rpy2) (2018.9)\n",
            "Requirement already satisfied: pycparser in /usr/local/lib/python3.7/dist-packages (from cffi>=1.10.0->rpy2) (2.20)\n",
            "Requirement already satisfied: MarkupSafe>=0.23 in /usr/local/lib/python3.7/dist-packages (from jinja2->rpy2) (1.1.1)\n"
          ],
          "name": "stdout"
        }
      ]
    },
    {
      "cell_type": "markdown",
      "metadata": {
        "id": "4Y2pas--pLoR"
      },
      "source": [
        "## LASSO Regression for Feature Selection\n",
        "\n",
        "In the first step we need to install our packages and set our seed for replicability."
      ]
    },
    {
      "cell_type": "code",
      "metadata": {
        "id": "fY--UkZgEsdO",
        "colab": {
          "base_uri": "https://localhost:8080/"
        },
        "outputId": "a554834b-79c8-4c5c-c9ac-63d18310a034"
      },
      "source": [
        "%%R\n",
        "\n",
        "install.packages(\"skimr\")\n",
        "install.packages(\"glmnet\")\n",
        "install.packages(\"plotmo\")\n",
        "\n",
        "library(readxl)\n",
        "library(MASS)\n",
        "library(tidyverse)\n",
        "library(broom)\n",
        "library(skimr)\n",
        "library(glmnet)\n",
        "library(plotmo)\n",
        "set.seed(144)"
      ],
      "execution_count": 7,
      "outputs": [
        {
          "output_type": "stream",
          "text": [
            "R[write to console]: Installing package into ‘/usr/local/lib/R/site-library’\n",
            "(as ‘lib’ is unspecified)\n",
            "\n",
            "R[write to console]: trying URL 'https://cran.rstudio.com/src/contrib/skimr_2.1.3.tar.gz'\n",
            "\n",
            "R[write to console]: Content type 'application/x-gzip'\n",
            "R[write to console]:  length 1123181 bytes (1.1 MB)\n",
            "\n",
            "R[write to console]: =\n",
            "R[write to console]: =\n",
            "R[write to console]: =\n",
            "R[write to console]: =\n",
            "R[write to console]: =\n",
            "R[write to console]: =\n",
            "R[write to console]: =\n",
            "R[write to console]: =\n",
            "R[write to console]: =\n",
            "R[write to console]: =\n",
            "R[write to console]: =\n",
            "R[write to console]: =\n",
            "R[write to console]: =\n",
            "R[write to console]: =\n",
            "R[write to console]: =\n",
            "R[write to console]: =\n",
            "R[write to console]: =\n",
            "R[write to console]: =\n",
            "R[write to console]: =\n",
            "R[write to console]: =\n",
            "R[write to console]: =\n",
            "R[write to console]: =\n",
            "R[write to console]: =\n",
            "R[write to console]: =\n",
            "R[write to console]: =\n",
            "R[write to console]: =\n",
            "R[write to console]: =\n",
            "R[write to console]: =\n",
            "R[write to console]: =\n",
            "R[write to console]: =\n",
            "R[write to console]: =\n",
            "R[write to console]: =\n",
            "R[write to console]: =\n",
            "R[write to console]: =\n",
            "R[write to console]: =\n",
            "R[write to console]: =\n",
            "R[write to console]: =\n",
            "R[write to console]: =\n",
            "R[write to console]: =\n",
            "R[write to console]: =\n",
            "R[write to console]: =\n",
            "R[write to console]: =\n",
            "R[write to console]: =\n",
            "R[write to console]: =\n",
            "R[write to console]: =\n",
            "R[write to console]: =\n",
            "R[write to console]: =\n",
            "R[write to console]: =\n",
            "R[write to console]: =\n",
            "R[write to console]: =\n",
            "R[write to console]: \n",
            "\n",
            "R[write to console]: downloaded 1.1 MB\n",
            "\n",
            "\n",
            "R[write to console]: \n",
            "\n",
            "R[write to console]: \n",
            "R[write to console]: The downloaded source packages are in\n",
            "\t‘/tmp/Rtmph1yN9M/downloaded_packages’\n",
            "R[write to console]: \n",
            "R[write to console]: \n",
            "\n",
            "R[write to console]: Installing package into ‘/usr/local/lib/R/site-library’\n",
            "(as ‘lib’ is unspecified)\n",
            "\n",
            "R[write to console]: trying URL 'https://cran.rstudio.com/src/contrib/glmnet_4.1-1.tar.gz'\n",
            "\n",
            "R[write to console]: Content type 'application/x-gzip'\n",
            "R[write to console]:  length 2154483 bytes (2.1 MB)\n",
            "\n",
            "R[write to console]: =\n",
            "R[write to console]: =\n",
            "R[write to console]: =\n",
            "R[write to console]: =\n",
            "R[write to console]: =\n",
            "R[write to console]: =\n",
            "R[write to console]: =\n",
            "R[write to console]: =\n",
            "R[write to console]: =\n",
            "R[write to console]: =\n",
            "R[write to console]: =\n",
            "R[write to console]: =\n",
            "R[write to console]: =\n",
            "R[write to console]: =\n",
            "R[write to console]: =\n",
            "R[write to console]: =\n",
            "R[write to console]: =\n",
            "R[write to console]: =\n",
            "R[write to console]: =\n",
            "R[write to console]: =\n",
            "R[write to console]: =\n",
            "R[write to console]: =\n",
            "R[write to console]: =\n",
            "R[write to console]: =\n",
            "R[write to console]: =\n",
            "R[write to console]: =\n",
            "R[write to console]: =\n",
            "R[write to console]: =\n",
            "R[write to console]: =\n",
            "R[write to console]: =\n",
            "R[write to console]: =\n",
            "R[write to console]: =\n",
            "R[write to console]: =\n",
            "R[write to console]: =\n",
            "R[write to console]: =\n",
            "R[write to console]: =\n",
            "R[write to console]: =\n",
            "R[write to console]: =\n",
            "R[write to console]: =\n",
            "R[write to console]: =\n",
            "R[write to console]: =\n",
            "R[write to console]: =\n",
            "R[write to console]: =\n",
            "R[write to console]: =\n",
            "R[write to console]: =\n",
            "R[write to console]: =\n",
            "R[write to console]: =\n",
            "R[write to console]: =\n",
            "R[write to console]: =\n",
            "R[write to console]: =\n",
            "R[write to console]: \n",
            "\n",
            "R[write to console]: downloaded 2.1 MB\n",
            "\n",
            "\n",
            "R[write to console]: \n",
            "\n",
            "R[write to console]: \n",
            "R[write to console]: The downloaded source packages are in\n",
            "\t‘/tmp/Rtmph1yN9M/downloaded_packages’\n",
            "R[write to console]: \n",
            "R[write to console]: \n",
            "\n",
            "R[write to console]: Installing package into ‘/usr/local/lib/R/site-library’\n",
            "(as ‘lib’ is unspecified)\n",
            "\n",
            "R[write to console]: trying URL 'https://cran.rstudio.com/src/contrib/plotmo_3.6.0.tar.gz'\n",
            "\n",
            "R[write to console]: Content type 'application/x-gzip'\n",
            "R[write to console]:  length 1286097 bytes (1.2 MB)\n",
            "\n",
            "R[write to console]: =\n",
            "R[write to console]: =\n",
            "R[write to console]: =\n",
            "R[write to console]: =\n",
            "R[write to console]: =\n",
            "R[write to console]: =\n",
            "R[write to console]: =\n",
            "R[write to console]: =\n",
            "R[write to console]: =\n",
            "R[write to console]: =\n",
            "R[write to console]: =\n",
            "R[write to console]: =\n",
            "R[write to console]: =\n",
            "R[write to console]: =\n",
            "R[write to console]: =\n",
            "R[write to console]: =\n",
            "R[write to console]: =\n",
            "R[write to console]: =\n",
            "R[write to console]: =\n",
            "R[write to console]: =\n",
            "R[write to console]: =\n",
            "R[write to console]: =\n",
            "R[write to console]: =\n",
            "R[write to console]: =\n",
            "R[write to console]: =\n",
            "R[write to console]: =\n",
            "R[write to console]: =\n",
            "R[write to console]: =\n",
            "R[write to console]: =\n",
            "R[write to console]: =\n",
            "R[write to console]: =\n",
            "R[write to console]: =\n",
            "R[write to console]: =\n",
            "R[write to console]: =\n",
            "R[write to console]: =\n",
            "R[write to console]: =\n",
            "R[write to console]: =\n",
            "R[write to console]: =\n",
            "R[write to console]: =\n",
            "R[write to console]: =\n",
            "R[write to console]: =\n",
            "R[write to console]: =\n",
            "R[write to console]: =\n",
            "R[write to console]: =\n",
            "R[write to console]: =\n",
            "R[write to console]: =\n",
            "R[write to console]: =\n",
            "R[write to console]: =\n",
            "R[write to console]: =\n",
            "R[write to console]: =\n",
            "R[write to console]: \n",
            "\n",
            "R[write to console]: downloaded 1.2 MB\n",
            "\n",
            "\n",
            "R[write to console]: \n",
            "\n",
            "R[write to console]: \n",
            "R[write to console]: The downloaded source packages are in\n",
            "\t‘/tmp/Rtmph1yN9M/downloaded_packages’\n",
            "R[write to console]: \n",
            "R[write to console]: \n",
            "\n",
            "R[write to console]: ── Attaching packages ─────────────────────────────────────── tidyverse 1.3.0 ──\n",
            "\n",
            "R[write to console]: ✔ ggplot2 3.3.3     ✔ purrr   0.3.4\n",
            "✔ tibble  3.1.0     ✔ dplyr   1.0.4\n",
            "✔ tidyr   1.1.3     ✔ stringr 1.4.0\n",
            "✔ readr   1.4.0     ✔ forcats 0.5.1\n",
            "\n",
            "R[write to console]: ── Conflicts ────────────────────────────────────────── tidyverse_conflicts() ──\n",
            "✖ dplyr::filter() masks stats::filter()\n",
            "✖ dplyr::lag()    masks stats::lag()\n",
            "✖ dplyr::select() masks MASS::select()\n",
            "\n",
            "R[write to console]: Loading required package: Matrix\n",
            "\n",
            "R[write to console]: \n",
            "Attaching package: ‘Matrix’\n",
            "\n",
            "\n",
            "R[write to console]: The following objects are masked from ‘package:tidyr’:\n",
            "\n",
            "    expand, pack, unpack\n",
            "\n",
            "\n",
            "R[write to console]: Loaded glmnet 4.1-1\n",
            "\n",
            "R[write to console]: Loading required package: Formula\n",
            "\n",
            "R[write to console]: Loading required package: plotrix\n",
            "\n",
            "R[write to console]: Loading required package: TeachingDemos\n",
            "\n"
          ],
          "name": "stderr"
        }
      ]
    },
    {
      "cell_type": "markdown",
      "metadata": {
        "id": "YtR4GfNen8No"
      },
      "source": [
        "## Splitting the data \n",
        "\n",
        "In the first step, we split the data into training and test set. \n",
        "We use a split of 0.66.\n",
        "For reference, we are using a slightly modified dataset here because we use regression as a categorical variable and not use dummies for each region due to the limited number of observations which prove to be inconvient for subsequent regression analysis. Irrespective, we will later on look at geospatial voting information to get a more fine grained picture of what the geospatial variation looks like. "
      ]
    },
    {
      "cell_type": "code",
      "metadata": {
        "id": "I5w26y6YFTAX",
        "colab": {
          "base_uri": "https://localhost:8080/"
        },
        "outputId": "7a8494ea-6984-44a8-a8a2-7d04a7680849"
      },
      "source": [
        "%%R\n",
        "data <- read_excel(\"df_merge_d.xlsx\", \n",
        "     col_types = c(\"numeric\", \"text\", \"numeric\",  \"numeric\", \"numeric\", \"numeric\", \n",
        "         \"numeric\", \"numeric\", \"numeric\",   \"numeric\", \"numeric\", \"numeric\", \n",
        "         \"numeric\", \"skip\", \"numeric\", \"skip\", \n",
        "         \"numeric\", \"numeric\", \"numeric\", \n",
        "         \"numeric\", \"numeric\", \"numeric\", \n",
        "         \"numeric\", \"numeric\", \"numeric\", \n",
        "         \"numeric\", \"numeric\", \"numeric\", \n",
        "         \"numeric\"))\n",
        "\n",
        "#data <- read_excel(\"df_merge_d.xlsx\")\n",
        "data = data[-(9:13)] # removing \n",
        "data = data[-(1:2)] # removing name of obs\n",
        "\n",
        "p = ncol(data) -1\n",
        "n <- nrow(data)\n",
        "set.seed(12)\n",
        "ind_train = sample(x = 1:n, size = ceiling(0.66 * n))\n",
        "set_train = data[ind_train,]\n",
        "ind_test = setdiff(x=1:n, ind_train)\n",
        "set_test = data[ind_test,] \n",
        "head(data)"
      ],
      "execution_count": 65,
      "outputs": [
        {
          "output_type": "stream",
          "text": [
            "R[write to console]: New names:\n",
            "* `` -> ...1\n",
            "\n"
          ],
          "name": "stderr"
        },
        {
          "output_type": "stream",
          "text": [
            "# A tibble: 6 x 20\n",
            "  total_number_of_vote… number_of_voters_… number_of_voters_… number_of_voters_…\n",
            "                  <dbl>              <dbl>              <dbl>              <dbl>\n",
            "1                  1656               1329               1319                252\n",
            "2                  2646                  0               2249                707\n",
            "3                  1805               1717               1714                537\n",
            "4                  2270               2122               2122                863\n",
            "5                  2746               2383               2383                507\n",
            "6                  2319               1829               1829                249\n",
            "# … with 16 more variables:\n",
            "#   number_of_voters_who_took_part_in_voting_at_the_place_of_residence <dbl>,\n",
            "#   number_of_voters_who_took_part_in_the_voting_on_election_day_at_the_polling_station <dbl>,\n",
            "#   number_of_votes_againts_all_candidates <dbl>,\n",
            "#   number_of_ballots_declared_invalid <dbl>,\n",
            "#   number_of_ballots_received_by_election_commission <dbl>,\n",
            "#   number_of_spoiled_ballots <dbl>, number_of_unused_ballots <dbl>,\n",
            "#   latitude <dbl>, longitude <dbl>, doctor <dbl>, army <dbl>, education <dbl>,\n",
            "#   science <dbl>, prof_union <dbl>, economics <dbl>, lukashenko_share <dbl>\n"
          ],
          "name": "stdout"
        }
      ]
    },
    {
      "cell_type": "markdown",
      "metadata": {
        "id": "FOEM4Ou5qNqc"
      },
      "source": [
        "Now we can also look at some summary statistics.\n",
        "Optionally, we can also look at summary statistics itself using the summary command, but some recent data exploration packages allow for a more interesting look at different variables also plotting "
      ]
    },
    {
      "cell_type": "code",
      "metadata": {
        "id": "-CXVyRqMGsuY",
        "colab": {
          "base_uri": "https://localhost:8080/",
          "height": 497
        },
        "outputId": "1159cd2e-d492-466d-af06-70cb10a1e566"
      },
      "source": [
        "%%R\n",
        "par(mfrow = c(3, 1))\n",
        "hist(data$lukashenko_share) \n",
        "hist(set_train$lukashenko_share)\n",
        "hist(set_test$lukashenko_share)"
      ],
      "execution_count": 50,
      "outputs": [
        {
          "output_type": "display_data",
          "data": {
            "image/png": "[encoded data removed]"
          },
          "metadata": {
            "tags": []
          }
        }
      ]
    },
    {
      "cell_type": "code",
      "metadata": {
        "id": "hItJx9RzGr7q",
        "colab": {
          "base_uri": "https://localhost:8080/"
        },
        "outputId": "f0dc4216-796a-4902-b74f-d79eb819cf9a"
      },
      "source": [
        "%%R\n",
        "skim(data)"
      ],
      "execution_count": 51,
      "outputs": [
        {
          "output_type": "stream",
          "text": [
            "── Data Summary ────────────────────────\n",
            "                           Values\n",
            "Name                       data  \n",
            "Number of rows             1583  \n",
            "Number of columns          21    \n",
            "_______________________          \n",
            "Column type frequency:           \n",
            "  character                1     \n",
            "  numeric                  20    \n",
            "________________________         \n",
            "Group variables            None  \n",
            "\n",
            "── Variable type: character ────────────────────────────────────────────────────\n",
            "  skim_variable n_missing complete_rate   min   max empty n_unique whitespace\n",
            "1 region                0             1     5    12     0        8          0\n",
            "\n",
            "── Variable type: numeric ──────────────────────────────────────────────────────\n",
            "   skim_variable                                                                \n",
            " 1 total_number_of_voters_at_the_polling_station_determined_by_the_list_of_citi…\n",
            " 2 number_of_voters_who_received_ballots                                        \n",
            " 3 number_of_voters_who_took_part_in_the_voting                                 \n",
            " 4 number_of_voters_who_took_part_in_the_early_voting                           \n",
            " 5 number_of_voters_who_took_part_in_voting_at_the_place_of_residence           \n",
            " 6 number_of_voters_who_took_part_in_the_voting_on_election_day_at_the_polling_…\n",
            " 7 number_of_votes_againts_all_candidates                                       \n",
            " 8 number_of_ballots_declared_invalid                                           \n",
            " 9 number_of_ballots_received_by_election_commission                            \n",
            "10 number_of_spoiled_ballots                                                    \n",
            "11 number_of_unused_ballots                                                     \n",
            "12 latitude                                                                     \n",
            "13 longitude                                                                    \n",
            "14 doctor                                                                       \n",
            "15 army                                                                         \n",
            "16 education                                                                    \n",
            "17 science                                                                      \n",
            "18 prof_union                                                                   \n",
            "19 economics                                                                    \n",
            "20 lukashenko_share                                                             \n",
            "   n_missing complete_rate      mean       sd    p0      p25      p50      p75\n",
            " 1         0             1 1719.      684.      0   1318     1795     2194.   \n",
            " 2         0             1 1391.      583.      0   1048     1388     1776    \n",
            " 3         0             1 1391.      580.      0   1050.    1385     1774.   \n",
            " 4         0             1  565.      309.      0    342.     553      758    \n",
            " 5         0             1   46.0      63.7     0     11       24       53    \n",
            " 6         0             1  779.      399.      0    516.     748     1009    \n",
            " 7         0             1   47.9      67.3     0      0        8       85    \n",
            " 8         0             1   12.7      25.8     0      0        0       14    \n",
            " 9         0             1  959.     1040.      0      0      410     1950    \n",
            "10         0             1    1.46      6.43    0      0        0        1    \n",
            "11         0             1  226.      299.      0      0       15      414    \n",
            "12         0             1   53.6       1.33   32.1   53.1     53.9     53.9  \n",
            "13         0             1   27.2       5.30  -77.0   26.3     27.6     28.5  \n",
            "14         0             1    0.303     0.460   0      0        0        1    \n",
            "15         0             1    0.0474    0.213   0      0        0        0    \n",
            "16         0             1    0.669     0.471   0      0        1        1    \n",
            "17         0             1    0.0594    0.236   0      0        0        0    \n",
            "18         0             1    0.148     0.356   0      0        0        0    \n",
            "19         0             1    0.0998    0.300   0      0        0        0    \n",
            "20         0             1    0.606     0.191   0      0.509    0.634    0.744\n",
            "       p100 hist \n",
            " 1 4255     ▂▆▇▂▁\n",
            " 2 3928     ▂▇▅▁▁\n",
            " 3 3924     ▂▇▆▁▁\n",
            " 4 1799     ▅▇▅▁▁\n",
            " 5  581     ▇▁▁▁▁\n",
            " 6 2874     ▅▇▂▁▁\n",
            " 7  393     ▇▂▁▁▁\n",
            " 8  402     ▇▁▁▁▁\n",
            " 9 4125     ▇▂▃▂▁\n",
            "10   84     ▇▁▁▁▁\n",
            "11 1332     ▇▂▂▁▁\n",
            "12   60.2   ▁▁▁▇▁\n",
            "13   71.5   ▁▁▁▇▁\n",
            "14    1     ▇▁▁▁▃\n",
            "15    1     ▇▁▁▁▁\n",
            "16    1     ▃▁▁▁▇\n",
            "17    1     ▇▁▁▁▁\n",
            "18    1     ▇▁▁▁▂\n",
            "19    1     ▇▁▁▁▁\n",
            "20    0.980 ▁▂▅▇▃\n"
          ],
          "name": "stdout"
        }
      ]
    },
    {
      "cell_type": "markdown",
      "metadata": {
        "id": "11i4vpiV7ev6"
      },
      "source": [
        "## Correlation Plot\n",
        "\n",
        "Next we can also look at the correlation plot"
      ]
    },
    {
      "cell_type": "code",
      "metadata": {
        "colab": {
          "base_uri": "https://localhost:8080/"
        },
        "id": "dU95wOGJiG9o",
        "outputId": "f1d220dc-3ea6-40a2-9e0e-81495175f423"
      },
      "source": [
        "%%R\n",
        "install.packages(\"corrplot\")\n",
        "library(corrplot)"
      ],
      "execution_count": 12,
      "outputs": [
        {
          "output_type": "stream",
          "text": [
            "R[write to console]: Installing package into ‘/usr/local/lib/R/site-library’\n",
            "(as ‘lib’ is unspecified)\n",
            "\n",
            "R[write to console]: trying URL 'https://cran.rstudio.com/src/contrib/corrplot_0.84.tar.gz'\n",
            "\n",
            "R[write to console]: Content type 'application/x-gzip'\n",
            "R[write to console]:  length 5385275 bytes (5.1 MB)\n",
            "\n",
            "R[write to console]: =\n",
            "R[write to console]: =\n",
            "R[write to console]: =\n",
            "R[write to console]: =\n",
            "R[write to console]: =\n",
            "R[write to console]: =\n",
            "R[write to console]: =\n",
            "R[write to console]: =\n",
            "R[write to console]: =\n",
            "R[write to console]: =\n",
            "R[write to console]: =\n",
            "R[write to console]: =\n",
            "R[write to console]: =\n",
            "R[write to console]: =\n",
            "R[write to console]: =\n",
            "R[write to console]: =\n",
            "R[write to console]: =\n",
            "R[write to console]: =\n",
            "R[write to console]: =\n",
            "R[write to console]: =\n",
            "R[write to console]: =\n",
            "R[write to console]: =\n",
            "R[write to console]: =\n",
            "R[write to console]: =\n",
            "R[write to console]: =\n",
            "R[write to console]: =\n",
            "R[write to console]: =\n",
            "R[write to console]: =\n",
            "R[write to console]: =\n",
            "R[write to console]: =\n",
            "R[write to console]: =\n",
            "R[write to console]: =\n",
            "R[write to console]: =\n",
            "R[write to console]: =\n",
            "R[write to console]: =\n",
            "R[write to console]: =\n",
            "R[write to console]: =\n",
            "R[write to console]: =\n",
            "R[write to console]: =\n",
            "R[write to console]: =\n",
            "R[write to console]: =\n",
            "R[write to console]: =\n",
            "R[write to console]: =\n",
            "R[write to console]: =\n",
            "R[write to console]: =\n",
            "R[write to console]: =\n",
            "R[write to console]: =\n",
            "R[write to console]: =\n",
            "R[write to console]: =\n",
            "R[write to console]: =\n",
            "R[write to console]: \n",
            "\n",
            "R[write to console]: downloaded 5.1 MB\n",
            "\n",
            "\n",
            "R[write to console]: \n",
            "\n",
            "R[write to console]: \n",
            "R[write to console]: The downloaded source packages are in\n",
            "\t‘/tmp/Rtmph1yN9M/downloaded_packages’\n",
            "R[write to console]: \n",
            "R[write to console]: \n",
            "\n",
            "R[write to console]: corrplot 0.84 loaded\n",
            "\n"
          ],
          "name": "stderr"
        }
      ]
    },
    {
      "cell_type": "code",
      "metadata": {
        "colab": {
          "base_uri": "https://localhost:8080/",
          "height": 497
        },
        "id": "VUgKAz6iuW_F",
        "outputId": "c28ceac2-047e-4a94-8ff4-d6b8769cec9b"
      },
      "source": [
        "%%R\n",
        "correl = cor(data[-(1:2)])\n",
        "corrplot(correl)"
      ],
      "execution_count": 67,
      "outputs": [
        {
          "output_type": "display_data",
          "data": {
            "image/png": "[encoded data removed]"
          },
          "metadata": {
            "tags": []
          }
        }
      ]
    },
    {
      "cell_type": "markdown",
      "metadata": {
        "id": "ZKX62iZpGZ2r"
      },
      "source": [
        "# Naive Regression Model"
      ]
    },
    {
      "cell_type": "code",
      "metadata": {
        "colab": {
          "base_uri": "https://localhost:8080/"
        },
        "id": "oSpsbiMKGCKY",
        "outputId": "15e7ed36-aef4-490a-b36b-a28620a8c1e4"
      },
      "source": [
        "%%R\n",
        "model_naive = lm(lukashenko_share~., data = set_train)\n",
        "summary(model_naive)"
      ],
      "execution_count": 83,
      "outputs": [
        {
          "output_type": "stream",
          "text": [
            "\n",
            "Call:\n",
            "lm(formula = lukashenko_share ~ ., data = set_train)\n",
            "\n",
            "Residuals:\n",
            "     Min       1Q   Median       3Q      Max \n",
            "-0.53632 -0.08764  0.01031  0.09110  0.48404 \n",
            "\n",
            "Coefficients:\n",
            "                                                                                                                           Estimate\n",
            "(Intercept)                                                                                                               3.617e-01\n",
            "total_number_of_voters_at_the_polling_station_determined_by_the_list_of_citizens_entitled_to_participate_in_the_election -3.702e-05\n",
            "number_of_voters_who_received_ballots                                                                                    -1.564e-04\n",
            "number_of_voters_who_took_part_in_the_voting                                                                              1.254e-04\n",
            "number_of_voters_who_took_part_in_the_early_voting                                                                        4.430e-04\n",
            "number_of_voters_who_took_part_in_voting_at_the_place_of_residence                                                        6.226e-04\n",
            "number_of_voters_who_took_part_in_the_voting_on_election_day_at_the_polling_station                                      -3.667e-05\n",
            "number_of_votes_againts_all_candidates                                                                                   -2.792e-04\n",
            "number_of_ballots_declared_invalid                                                                                        6.413e-05\n",
            "number_of_ballots_received_by_election_commission                                                                        -1.739e-05\n",
            "number_of_spoiled_ballots                                                                                                 7.233e-04\n",
            "number_of_unused_ballots                                                                                                  4.550e-05\n",
            "latitude                                                                                                                 -2.435e-04\n",
            "longitude                                                                                                                 4.472e-03\n",
            "doctor                                                                                                                   -2.884e-03\n",
            "army                                                                                                                     -5.381e-02\n",
            "education                                                                                                                 2.787e-02\n",
            "science                                                                                                                  -1.700e-02\n",
            "prof_union                                                                                                               -5.260e-02\n",
            "economics                                                                                                                 2.930e-02\n",
            "                                                                                                                         Std. Error\n",
            "(Intercept)                                                                                                               1.961e-01\n",
            "total_number_of_voters_at_the_polling_station_determined_by_the_list_of_citizens_entitled_to_participate_in_the_election  2.372e-05\n",
            "number_of_voters_who_received_ballots                                                                                     1.736e-04\n",
            "number_of_voters_who_took_part_in_the_voting                                                                              1.876e-04\n",
            "number_of_voters_who_took_part_in_the_early_voting                                                                        6.996e-05\n",
            "number_of_voters_who_took_part_in_voting_at_the_place_of_residence                                                        1.029e-04\n",
            "number_of_voters_who_took_part_in_the_voting_on_election_day_at_the_polling_station                                       6.684e-05\n",
            "number_of_votes_againts_all_candidates                                                                                    1.144e-04\n",
            "number_of_ballots_declared_invalid                                                                                        2.412e-04\n",
            "number_of_ballots_received_by_election_commission                                                                         1.003e-05\n",
            "number_of_spoiled_ballots                                                                                                 8.161e-04\n",
            "number_of_unused_ballots                                                                                                  3.511e-05\n",
            "latitude                                                                                                                  3.855e-03\n",
            "longitude                                                                                                                 8.785e-04\n",
            "doctor                                                                                                                    1.401e-02\n",
            "army                                                                                                                      2.596e-02\n",
            "education                                                                                                                 1.262e-02\n",
            "science                                                                                                                   2.065e-02\n",
            "prof_union                                                                                                                1.522e-02\n",
            "economics                                                                                                                 1.608e-02\n",
            "                                                                                                                         t value\n",
            "(Intercept)                                                                                                                1.845\n",
            "total_number_of_voters_at_the_polling_station_determined_by_the_list_of_citizens_entitled_to_participate_in_the_election  -1.561\n",
            "number_of_voters_who_received_ballots                                                                                     -0.901\n",
            "number_of_voters_who_took_part_in_the_voting                                                                               0.668\n",
            "number_of_voters_who_took_part_in_the_early_voting                                                                         6.332\n",
            "number_of_voters_who_took_part_in_voting_at_the_place_of_residence                                                         6.053\n",
            "number_of_voters_who_took_part_in_the_voting_on_election_day_at_the_polling_station                                       -0.549\n",
            "number_of_votes_againts_all_candidates                                                                                    -2.441\n",
            "number_of_ballots_declared_invalid                                                                                         0.266\n",
            "number_of_ballots_received_by_election_commission                                                                         -1.733\n",
            "number_of_spoiled_ballots                                                                                                  0.886\n",
            "number_of_unused_ballots                                                                                                   1.296\n",
            "latitude                                                                                                                  -0.063\n",
            "longitude                                                                                                                  5.090\n",
            "doctor                                                                                                                    -0.206\n",
            "army                                                                                                                      -2.073\n",
            "education                                                                                                                  2.209\n",
            "science                                                                                                                   -0.823\n",
            "prof_union                                                                                                                -3.456\n",
            "economics                                                                                                                  1.822\n",
            "                                                                                                                         Pr(>|t|)\n",
            "(Intercept)                                                                                                               0.06536\n",
            "total_number_of_voters_at_the_polling_station_determined_by_the_list_of_citizens_entitled_to_participate_in_the_election  0.11880\n",
            "number_of_voters_who_received_ballots                                                                                     0.36781\n",
            "number_of_voters_who_took_part_in_the_voting                                                                              0.50418\n",
            "number_of_voters_who_took_part_in_the_early_voting                                                                       3.62e-10\n",
            "number_of_voters_who_took_part_in_voting_at_the_place_of_residence                                                       1.99e-09\n",
            "number_of_voters_who_took_part_in_the_voting_on_election_day_at_the_polling_station                                       0.58333\n",
            "number_of_votes_againts_all_candidates                                                                                    0.01483\n",
            "number_of_ballots_declared_invalid                                                                                        0.79037\n",
            "number_of_ballots_received_by_election_commission                                                                         0.08333\n",
            "number_of_spoiled_ballots                                                                                                 0.37571\n",
            "number_of_unused_ballots                                                                                                  0.19523\n",
            "latitude                                                                                                                  0.94965\n",
            "longitude                                                                                                                4.26e-07\n",
            "doctor                                                                                                                    0.83701\n",
            "army                                                                                                                      0.03842\n",
            "education                                                                                                                 0.02741\n",
            "science                                                                                                                   0.41071\n",
            "prof_union                                                                                                                0.00057\n",
            "economics                                                                                                                 0.06878\n",
            "                                                                                                                            \n",
            "(Intercept)                                                                                                              .  \n",
            "total_number_of_voters_at_the_polling_station_determined_by_the_list_of_citizens_entitled_to_participate_in_the_election    \n",
            "number_of_voters_who_received_ballots                                                                                       \n",
            "number_of_voters_who_took_part_in_the_voting                                                                                \n",
            "number_of_voters_who_took_part_in_the_early_voting                                                                       ***\n",
            "number_of_voters_who_took_part_in_voting_at_the_place_of_residence                                                       ***\n",
            "number_of_voters_who_took_part_in_the_voting_on_election_day_at_the_polling_station                                         \n",
            "number_of_votes_againts_all_candidates                                                                                   *  \n",
            "number_of_ballots_declared_invalid                                                                                          \n",
            "number_of_ballots_received_by_election_commission                                                                        .  \n",
            "number_of_spoiled_ballots                                                                                                   \n",
            "number_of_unused_ballots                                                                                                    \n",
            "latitude                                                                                                                    \n",
            "longitude                                                                                                                ***\n",
            "doctor                                                                                                                      \n",
            "army                                                                                                                     *  \n",
            "education                                                                                                                *  \n",
            "science                                                                                                                     \n",
            "prof_union                                                                                                               ***\n",
            "economics                                                                                                                .  \n",
            "---\n",
            "Signif. codes:  0 ‘***’ 0.001 ‘**’ 0.01 ‘*’ 0.05 ‘.’ 0.1 ‘ ’ 1\n",
            "\n",
            "Residual standard error: 0.1505 on 1025 degrees of freedom\n",
            "Multiple R-squared:  0.3987,\tAdjusted R-squared:  0.3876 \n",
            "F-statistic: 35.77 on 19 and 1025 DF,  p-value: < 2.2e-16\n",
            "\n"
          ],
          "name": "stdout"
        }
      ]
    },
    {
      "cell_type": "markdown",
      "metadata": {
        "id": "IWgQJBic9QgH"
      },
      "source": [
        "# Lasso Model \n"
      ]
    },
    {
      "cell_type": "code",
      "metadata": {
        "id": "QpTtiFrIiYxK"
      },
      "source": [
        "%%R\n",
        "model_lasso = glmnet(x = as.matrix(set_train[,-(p+1)]), y = set_train$lukashenko_share, alpha =1)"
      ],
      "execution_count": 84,
      "outputs": []
    },
    {
      "cell_type": "markdown",
      "metadata": {
        "id": "GKESYzHz9c3s"
      },
      "source": [
        "## Cross Validation \n"
      ]
    },
    {
      "cell_type": "code",
      "metadata": {
        "colab": {
          "base_uri": "https://localhost:8080/",
          "height": 497
        },
        "id": "Q1DomBuL9XKW",
        "outputId": "0f0a3104-0191-4a04-ffd5-71b0bf04c387"
      },
      "source": [
        "%%R\n",
        "cv<-cv.glmnet(as.matrix(set_train[-(p+1)]), set_train$lukashenko_share,nfolds = 3) \n",
        "plot(cv)"
      ],
      "execution_count": 89,
      "outputs": [
        {
          "output_type": "display_data",
          "data": {
            "image/png": "[encoded data removed]"
          },
          "metadata": {
            "tags": []
          }
        }
      ]
    },
    {
      "cell_type": "markdown",
      "metadata": {
        "id": "yXera41v9gQY"
      },
      "source": [
        "## Selecting the optimal Lambda parameter"
      ]
    },
    {
      "cell_type": "code",
      "metadata": {
        "colab": {
          "base_uri": "https://localhost:8080/",
          "height": 497
        },
        "id": "9SHe8eG29abo",
        "outputId": "46bf48cd-824e-4ee7-a67f-9d76e0decb9a"
      },
      "source": [
        "%%R\n",
        "lambda_lasso = cv.glmnet(x = as.matrix(set_train[,-(p+1)]),y = set_train$lukashenko_share, alpha =1)$lambda.min\n",
        "\n",
        "# Plot log lambda\n",
        "plot_glmnet(x = model_lasso, label = TRUE, xvar = \"lambda\")\n",
        "title(main = \"LASSO\", line = 3)"
      ],
      "execution_count": 88,
      "outputs": [
        {
          "output_type": "display_data",
          "data": {
            "image/png": "[encoded data removed]"
          },
          "metadata": {
            "tags": []
          }
        }
      ]
    },
    {
      "cell_type": "markdown",
      "metadata": {
        "id": "TbbUoByZidaG"
      },
      "source": [
        "\n",
        "We can first look at how our models perform on our training data.\n",
        "Here we are comparing a random forest and a lasso model. "
      ]
    },
    {
      "cell_type": "code",
      "metadata": {
        "id": "522cBvbvictY"
      },
      "source": [
        "%%R\n",
        "y_train = set_train$lukashenko_share\n",
        "predict_train = matrix(data =0, nrow= nrow(set_train), ncol=2)\n",
        "\n",
        "predict_train[, 1] = predict(object = model_naive, newdata = set_train[, -(p + 1)])\n",
        "predict_train[,2] = predict.glmnet(object = model_lasso, \n",
        "                                  newx = as.matrix(set_train[,-(p+1)]),\n",
        "                                  s = lambda_lasso)\n",
        "\n",
        "colnames(predict_train) =c(\"Naive Model\", \"Lasso Model\")"
      ],
      "execution_count": 90,
      "outputs": []
    },
    {
      "cell_type": "code",
      "metadata": {
        "colab": {
          "base_uri": "https://localhost:8080/"
        },
        "id": "ga4lqOSmIwvP",
        "outputId": "ea7db18c-65b2-44ab-e091-d467698212fd"
      },
      "source": [
        "%%R\n",
        "MSE_train = rep(x=0, length.out =2) \n",
        "for (i in 1:2){\n",
        "  MSE_train[i] = mean((y_train-predict_train[,i])^2)\n",
        "}\n",
        "names(MSE_train) = c(\"Naive Model\", \"Lasso Model\")\n",
        "MSE_train"
      ],
      "execution_count": 91,
      "outputs": [
        {
          "output_type": "stream",
          "text": [
            "Naive Model Lasso Model \n",
            " 0.02221997  0.02249697 \n"
          ],
          "name": "stdout"
        }
      ]
    },
    {
      "cell_type": "markdown",
      "metadata": {
        "id": "haaMOadSihY4"
      },
      "source": [
        "Predicting on our training data, we can see that the OLS model without regularization performs better than the Lasso model, although they are somewhat similar. \n",
        "Subsequently, we can look at how our model performs when dealing with new data. \n",
        "Therefore, we use the test set and again predict our naive and our lasso model."
      ]
    },
    {
      "cell_type": "code",
      "metadata": {
        "colab": {
          "base_uri": "https://localhost:8080/"
        },
        "id": "DdeOw9KJif1U",
        "outputId": "5d778471-7d82-484c-e715-5458ba329ab2"
      },
      "source": [
        "%%R\n",
        "y_test = set_test$lukashenko_share\n",
        "predict_test = matrix(data =0, nrow= nrow(set_test), ncol=2)\n",
        "\n",
        "predict_test[, 1] = predict(object = model_naive, newdata = set_test[, -(p + 1)])\n",
        "predict_test[,2] = predict.glmnet(object = model_lasso,  newx = as.matrix(set_test[,-(p+1)]),\n",
        "                                  s = lambda_lasso)\n",
        "\n",
        "colnames(predict_test) =c(\"Naive Model\", \"Lasso Model\")\n",
        "\n",
        "MSE_test = rep(x=0, length.out =2) \n",
        "for (i in 1:2){\n",
        "  MSE_test[i] = mean((y_test-predict_test[,i])^2)\n",
        "}\n",
        "names(MSE_test) = c(\"Naive Model\", \"Lasso Model\")\n",
        "MSE_test"
      ],
      "execution_count": 92,
      "outputs": [
        {
          "output_type": "stream",
          "text": [
            "Naive Model Lasso Model \n",
            " 0.02298815  0.02254081 \n"
          ],
          "name": "stdout"
        }
      ]
    },
    {
      "cell_type": "markdown",
      "metadata": {
        "id": "D5FfAi8usFKo"
      },
      "source": [
        "# Feature Importance for Lasso Regression \n",
        " \n",
        " For comparability, we also include "
      ]
    },
    {
      "cell_type": "code",
      "metadata": {
        "colab": {
          "base_uri": "https://localhost:8080/",
          "height": 1000
        },
        "id": "XkKoHnXvsGsU",
        "outputId": "3b764c2b-2258-4897-8cd4-3f779262ea12"
      },
      "source": [
        "%%R\n",
        "set.seed(123)\n",
        "install.packages(\"ranger\")\n",
        "install.packages(\"vip\")\n",
        "library(ranger)\n",
        "library(vip) # Link: https://koalaverse.github.io/vip/articles/vip.html\n",
        "rfo <- ranger(lukashenko_share ~ ., data = data, importance = \"permutation\")\n",
        "rfo\n",
        "vi_rfo <- rfo$variable.importance\n",
        "vi_rfo\n",
        "barplot(vi_rfo, horiz = TRUE, las = 1)\n",
        "\n",
        "vip(rfo, width = 0.5, aesthetics = list(fill = \"green3\"))\n"
      ],
      "execution_count": 93,
      "outputs": [
        {
          "output_type": "stream",
          "text": [
            "R[write to console]: Installing package into ‘/usr/local/lib/R/site-library’\n",
            "(as ‘lib’ is unspecified)\n",
            "\n",
            "R[write to console]: trying URL 'https://cran.rstudio.com/src/contrib/ranger_0.12.1.tar.gz'\n",
            "\n",
            "R[write to console]: Content type 'application/x-gzip'\n",
            "R[write to console]:  length 156486 bytes (152 KB)\n",
            "\n",
            "R[write to console]: =\n",
            "R[write to console]: =\n",
            "R[write to console]: =\n",
            "R[write to console]: =\n",
            "R[write to console]: =\n",
            "R[write to console]: =\n",
            "R[write to console]: =\n",
            "R[write to console]: =\n",
            "R[write to console]: =\n",
            "R[write to console]: =\n",
            "R[write to console]: =\n",
            "R[write to console]: =\n",
            "R[write to console]: =\n",
            "R[write to console]: =\n",
            "R[write to console]: =\n",
            "R[write to console]: =\n",
            "R[write to console]: =\n",
            "R[write to console]: =\n",
            "R[write to console]: =\n",
            "R[write to console]: =\n",
            "R[write to console]: =\n",
            "R[write to console]: =\n",
            "R[write to console]: =\n",
            "R[write to console]: =\n",
            "R[write to console]: =\n",
            "R[write to console]: =\n",
            "R[write to console]: =\n",
            "R[write to console]: =\n",
            "R[write to console]: =\n",
            "R[write to console]: =\n",
            "R[write to console]: =\n",
            "R[write to console]: =\n",
            "R[write to console]: =\n",
            "R[write to console]: =\n",
            "R[write to console]: =\n",
            "R[write to console]: =\n",
            "R[write to console]: =\n",
            "R[write to console]: =\n",
            "R[write to console]: =\n",
            "R[write to console]: =\n",
            "R[write to console]: =\n",
            "R[write to console]: =\n",
            "R[write to console]: =\n",
            "R[write to console]: =\n",
            "R[write to console]: =\n",
            "R[write to console]: =\n",
            "R[write to console]: =\n",
            "R[write to console]: =\n",
            "R[write to console]: =\n",
            "R[write to console]: =\n",
            "R[write to console]: \n",
            "\n",
            "R[write to console]: downloaded 152 KB\n",
            "\n",
            "\n",
            "R[write to console]: \n",
            "\n",
            "R[write to console]: \n",
            "R[write to console]: The downloaded source packages are in\n",
            "\t‘/tmp/Rtmph1yN9M/downloaded_packages’\n",
            "R[write to console]: \n",
            "R[write to console]: \n",
            "\n",
            "R[write to console]: Installing package into ‘/usr/local/lib/R/site-library’\n",
            "(as ‘lib’ is unspecified)\n",
            "\n",
            "R[write to console]: trying URL 'https://cran.rstudio.com/src/contrib/vip_0.3.2.tar.gz'\n",
            "\n",
            "R[write to console]: Content type 'application/x-gzip'\n",
            "R[write to console]:  length 4090821 bytes (3.9 MB)\n",
            "\n",
            "R[write to console]: =\n",
            "R[write to console]: =\n",
            "R[write to console]: =\n",
            "R[write to console]: =\n",
            "R[write to console]: =\n",
            "R[write to console]: =\n",
            "R[write to console]: =\n",
            "R[write to console]: =\n",
            "R[write to console]: =\n",
            "R[write to console]: =\n",
            "R[write to console]: =\n",
            "R[write to console]: =\n",
            "R[write to console]: =\n",
            "R[write to console]: =\n",
            "R[write to console]: =\n",
            "R[write to console]: =\n",
            "R[write to console]: =\n",
            "R[write to console]: =\n",
            "R[write to console]: =\n",
            "R[write to console]: =\n",
            "R[write to console]: =\n",
            "R[write to console]: =\n",
            "R[write to console]: =\n",
            "R[write to console]: =\n",
            "R[write to console]: =\n",
            "R[write to console]: =\n",
            "R[write to console]: =\n",
            "R[write to console]: =\n",
            "R[write to console]: =\n",
            "R[write to console]: =\n",
            "R[write to console]: =\n",
            "R[write to console]: =\n",
            "R[write to console]: =\n",
            "R[write to console]: =\n",
            "R[write to console]: =\n",
            "R[write to console]: =\n",
            "R[write to console]: =\n",
            "R[write to console]: =\n",
            "R[write to console]: =\n",
            "R[write to console]: =\n",
            "R[write to console]: =\n",
            "R[write to console]: =\n",
            "R[write to console]: =\n",
            "R[write to console]: =\n",
            "R[write to console]: =\n",
            "R[write to console]: =\n",
            "R[write to console]: =\n",
            "R[write to console]: =\n",
            "R[write to console]: =\n",
            "R[write to console]: =\n",
            "R[write to console]: \n",
            "\n",
            "R[write to console]: downloaded 3.9 MB\n",
            "\n",
            "\n",
            "R[write to console]: \n",
            "\n",
            "R[write to console]: \n",
            "R[write to console]: The downloaded source packages are in\n",
            "\t‘/tmp/Rtmph1yN9M/downloaded_packages’\n",
            "R[write to console]: \n",
            "R[write to console]: \n",
            "\n"
          ],
          "name": "stderr"
        },
        {
          "output_type": "display_data",
          "data": {
            "image/png": "[encoded data removed]"
          },
          "metadata": {
            "tags": []
          }
        },
        {
          "output_type": "display_data",
          "data": {
            "image/png": "[encoded data removed]"
          },
          "metadata": {
            "tags": []
          }
        }
      ]
    },
    {
      "cell_type": "code",
      "metadata": {
        "colab": {
          "base_uri": "https://localhost:8080/",
          "height": 497
        },
        "id": "WJ72N-E_Jwf9",
        "outputId": "4aee604c-9608-44c2-e732-c62e30575cdd"
      },
      "source": [
        "%%R\n",
        "# backward <- step(model_lasso, direction = \"backward\", trace = 0)\n",
        "vip(model_lasso, width = 0.5, aesthetics = list(fill = \"green4\"))"
      ],
      "execution_count": 99,
      "outputs": [
        {
          "output_type": "display_data",
          "data": {
            "image/png": "[encoded data removed]"
          },
          "metadata": {
            "tags": []
          }
        }
      ]
    },
    {
      "cell_type": "markdown",
      "metadata": {
        "id": "-j_ASlA4ilWE"
      },
      "source": [
        "# OLS Regression with selected features\n",
        "\n",
        "Here we can see a very different performance. \n",
        "The Lasso model performs substantially better then the OLS model.\n",
        "Therefore, using this method has led to better predictive performance. \n",
        "Lastly, we can also use the lasso specification for a OLS model, trained on test data to ensure that we have no incorrect standard errors.\n",
        "This is a pivotal concern within in economics, because we need correct standard errors to interpret our coefficients and ensure causality. \n",
        "\n",
        "As a first step we can look at the coefficients in the lasso model:"
      ]
    },
    {
      "cell_type": "code",
      "metadata": {
        "colab": {
          "base_uri": "https://localhost:8080/"
        },
        "id": "tnqUSq9giqXP",
        "outputId": "0c471d09-9e99-46f5-9b6b-9764f0ae7f09"
      },
      "source": [
        "%%R\n",
        "coef_lasso <- model_lasso$beta[, which(model_lasso$lambda == lambda_lasso)]\n",
        "which(coef_lasso!=0)"
      ],
      "execution_count": 100,
      "outputs": [
        {
          "output_type": "stream",
          "text": [
            "                                 number_of_voters_who_took_part_in_the_early_voting \n",
            "                                                                                  4 \n",
            "                 number_of_voters_who_took_part_in_voting_at_the_place_of_residence \n",
            "                                                                                  5 \n",
            "number_of_voters_who_took_part_in_the_voting_on_election_day_at_the_polling_station \n",
            "                                                                                  6 \n",
            "                                             number_of_votes_againts_all_candidates \n",
            "                                                                                  7 \n",
            "                                  number_of_ballots_received_by_election_commission \n",
            "                                                                                  9 \n",
            "                                                          number_of_spoiled_ballots \n",
            "                                                                                 10 \n",
            "                                                                          longitude \n",
            "                                                                                 13 \n",
            "                                                                               army \n",
            "                                                                                 15 \n",
            "                                                                          education \n",
            "                                                                                 16 \n",
            "                                                                         prof_union \n",
            "                                                                                 18 \n",
            "                                                                          economics \n",
            "                                                                                 19 \n"
          ],
          "name": "stdout"
        }
      ]
    },
    {
      "cell_type": "markdown",
      "metadata": {
        "id": "OxgUXBiNiuPv"
      },
      "source": [
        "The advantage of the lasso method is that we induce sparsity.\n",
        "Here we can see that various features turn to 0.\n",
        "One could also argue that due to correlation between some features, explanatory or variance was ascribed to either the one or the other variable. \n",
        "We can see that the variables that were more correlated (see correlation plot above) frequently scored 0 here. \n",
        "Now we can specify a model with the relevant coefficients, and run the model on the test data. "
      ]
    },
    {
      "cell_type": "code",
      "metadata": {
        "colab": {
          "base_uri": "https://localhost:8080/"
        },
        "id": "HR8juB3LivSI",
        "outputId": "51deedfd-dd83-4329-cccf-20ffd3390ee2"
      },
      "source": [
        "%%R\n",
        "model = lm(lukashenko_share ~  number_of_voters_who_took_part_in_the_early_voting  + number_of_voters_who_took_part_in_voting_at_the_place_of_residence + number_of_voters_who_took_part_in_the_voting_on_election_day_at_the_polling_station  + number_of_votes_againts_all_candidates + number_of_ballots_received_by_election_commission + number_of_spoiled_ballots +  longitude + army + education + prof_union + economics , data = set_test)\n",
        "summary(model)"
      ],
      "execution_count": 107,
      "outputs": [
        {
          "output_type": "stream",
          "text": [
            "\n",
            "Call:\n",
            "lm(formula = lukashenko_share ~ number_of_voters_who_took_part_in_the_early_voting + \n",
            "    number_of_voters_who_took_part_in_voting_at_the_place_of_residence + \n",
            "    number_of_voters_who_took_part_in_the_voting_on_election_day_at_the_polling_station + \n",
            "    number_of_votes_againts_all_candidates + number_of_ballots_received_by_election_commission + \n",
            "    number_of_spoiled_ballots + longitude + army + education + \n",
            "    prof_union + economics, data = set_test)\n",
            "\n",
            "Residuals:\n",
            "     Min       1Q   Median       3Q      Max \n",
            "-0.52227 -0.08249  0.00832  0.09160  0.53253 \n",
            "\n",
            "Coefficients:\n",
            "                                                                                      Estimate\n",
            "(Intercept)                                                                          4.188e-02\n",
            "number_of_voters_who_took_part_in_the_early_voting                                   3.388e-04\n",
            "number_of_voters_who_took_part_in_voting_at_the_place_of_residence                   3.808e-04\n",
            "number_of_voters_who_took_part_in_the_voting_on_election_day_at_the_polling_station -8.127e-05\n",
            "number_of_votes_againts_all_candidates                                              -3.573e-04\n",
            "number_of_ballots_received_by_election_commission                                    3.081e-07\n",
            "number_of_spoiled_ballots                                                            2.676e-04\n",
            "longitude                                                                            1.551e-02\n",
            "army                                                                                -9.771e-02\n",
            "education                                                                            2.740e-02\n",
            "prof_union                                                                          -3.345e-02\n",
            "economics                                                                            4.019e-02\n",
            "                                                                                    Std. Error\n",
            "(Intercept)                                                                          9.099e-02\n",
            "number_of_voters_who_took_part_in_the_early_voting                                   2.433e-05\n",
            "number_of_voters_who_took_part_in_voting_at_the_place_of_residence                   9.855e-05\n",
            "number_of_voters_who_took_part_in_the_voting_on_election_day_at_the_polling_station  1.905e-05\n",
            "number_of_votes_againts_all_candidates                                               1.576e-04\n",
            "number_of_ballots_received_by_election_commission                                    9.800e-06\n",
            "number_of_spoiled_ballots                                                            9.680e-04\n",
            "longitude                                                                            3.193e-03\n",
            "army                                                                                 3.579e-02\n",
            "education                                                                            1.541e-02\n",
            "prof_union                                                                           2.352e-02\n",
            "economics                                                                            2.597e-02\n",
            "                                                                                    t value\n",
            "(Intercept)                                                                           0.460\n",
            "number_of_voters_who_took_part_in_the_early_voting                                   13.927\n",
            "number_of_voters_who_took_part_in_voting_at_the_place_of_residence                    3.864\n",
            "number_of_voters_who_took_part_in_the_voting_on_election_day_at_the_polling_station  -4.267\n",
            "number_of_votes_againts_all_candidates                                               -2.266\n",
            "number_of_ballots_received_by_election_commission                                     0.031\n",
            "number_of_spoiled_ballots                                                             0.276\n",
            "longitude                                                                             4.857\n",
            "army                                                                                 -2.730\n",
            "education                                                                             1.778\n",
            "prof_union                                                                           -1.422\n",
            "economics                                                                             1.548\n",
            "                                                                                    Pr(>|t|)\n",
            "(Intercept)                                                                         0.645465\n",
            "number_of_voters_who_took_part_in_the_early_voting                                   < 2e-16\n",
            "number_of_voters_who_took_part_in_voting_at_the_place_of_residence                  0.000126\n",
            "number_of_voters_who_took_part_in_the_voting_on_election_day_at_the_polling_station 2.35e-05\n",
            "number_of_votes_againts_all_candidates                                              0.023833\n",
            "number_of_ballots_received_by_election_commission                                   0.974934\n",
            "number_of_spoiled_ballots                                                           0.782353\n",
            "longitude                                                                           1.58e-06\n",
            "army                                                                                0.006544\n",
            "education                                                                           0.075936\n",
            "prof_union                                                                          0.155628\n",
            "economics                                                                           0.122337\n",
            "                                                                                       \n",
            "(Intercept)                                                                            \n",
            "number_of_voters_who_took_part_in_the_early_voting                                  ***\n",
            "number_of_voters_who_took_part_in_voting_at_the_place_of_residence                  ***\n",
            "number_of_voters_who_took_part_in_the_voting_on_election_day_at_the_polling_station ***\n",
            "number_of_votes_againts_all_candidates                                              *  \n",
            "number_of_ballots_received_by_election_commission                                      \n",
            "number_of_spoiled_ballots                                                              \n",
            "longitude                                                                           ***\n",
            "army                                                                                ** \n",
            "education                                                                           .  \n",
            "prof_union                                                                             \n",
            "economics                                                                              \n",
            "---\n",
            "Signif. codes:  0 ‘***’ 0.001 ‘**’ 0.01 ‘*’ 0.05 ‘.’ 0.1 ‘ ’ 1\n",
            "\n",
            "Residual standard error: 0.1491 on 526 degrees of freedom\n",
            "Multiple R-squared:  0.3883,\tAdjusted R-squared:  0.3756 \n",
            "F-statistic: 30.36 on 11 and 526 DF,  p-value: < 2.2e-16\n",
            "\n"
          ],
          "name": "stdout"
        }
      ]
    },
    {
      "cell_type": "markdown",
      "metadata": {
        "id": "-zscDvlKi9Ae"
      },
      "source": [
        "# Alternative Methods: Unsupervised Learning via Principal Component Analysis \n",
        "\n",
        "In addition to supervised learning, we can also look at feature importance from the perspective of unsupervised learning.\n",
        "One popular dimensionality reduction technique is principal component analysis or in short PCA. \n"
      ]
    },
    {
      "cell_type": "code",
      "metadata": {
        "colab": {
          "base_uri": "https://localhost:8080/"
        },
        "id": "wXwEtLvpi2hE",
        "outputId": "abf73bc8-2bd1-489b-875d-3b4830637011"
      },
      "source": [
        "%%R\n",
        "# install.packages(\"ggfortify\")\n",
        "library(ggfortify)\n",
        "library(devtools)\n"
      ],
      "execution_count": 101,
      "outputs": [
        {
          "output_type": "stream",
          "text": [
            "R[write to console]: Loading required package: usethis\n",
            "\n"
          ],
          "name": "stderr"
        }
      ]
    },
    {
      "cell_type": "code",
      "metadata": {
        "colab": {
          "base_uri": "https://localhost:8080/"
        },
        "id": "YxTfJ8cWzmMV",
        "outputId": "4c83168f-8fce-49b7-e2d1-9196f8b7aedc"
      },
      "source": [
        "%%R\n",
        "data_n = data[-2]\n",
        "PCA = prcomp(data_n, scale. = TRUE,center = TRUE)\n",
        "summary(PCA)"
      ],
      "execution_count": 102,
      "outputs": [
        {
          "output_type": "stream",
          "text": [
            "Importance of components:\n",
            "                          PC1    PC2     PC3     PC4     PC5     PC6     PC7\n",
            "Standard deviation     2.0175 1.6987 1.32442 1.23797 1.20392 1.04235 1.01096\n",
            "Proportion of Variance 0.2142 0.1519 0.09232 0.08066 0.07629 0.05718 0.05379\n",
            "Cumulative Proportion  0.2142 0.3661 0.45843 0.53909 0.61538 0.67256 0.72635\n",
            "                           PC8     PC9    PC10    PC11    PC12    PC13    PC14\n",
            "Standard deviation     0.95979 0.91104 0.86756 0.71703 0.69815 0.66783 0.64619\n",
            "Proportion of Variance 0.04848 0.04368 0.03961 0.02706 0.02565 0.02347 0.02198\n",
            "Cumulative Proportion  0.77484 0.81852 0.85813 0.88519 0.91085 0.93432 0.95630\n",
            "                          PC15    PC16    PC17    PC18    PC19\n",
            "Standard deviation     0.57593 0.54150 0.38133 0.22894 0.08734\n",
            "Proportion of Variance 0.01746 0.01543 0.00765 0.00276 0.00040\n",
            "Cumulative Proportion  0.97375 0.98919 0.99684 0.99960 1.00000\n"
          ],
          "name": "stdout"
        }
      ]
    },
    {
      "cell_type": "code",
      "metadata": {
        "colab": {
          "base_uri": "https://localhost:8080/",
          "height": 497
        },
        "id": "3oCgV9AB0FDd",
        "outputId": "f9529e6a-f870-44f6-de3b-1cd78dc3f93b"
      },
      "source": [
        "%%R\n",
        "screeplot(PCA, npcs =8, type = \"lines\")\n"
      ],
      "execution_count": 103,
      "outputs": [
        {
          "output_type": "display_data",
          "data": {
            "image/png": "[encoded data removed]"
          },
          "metadata": {
            "tags": []
          }
        }
      ]
    },
    {
      "cell_type": "markdown",
      "metadata": {
        "id": "kIC3QoN30grO"
      },
      "source": [
        "Optional: Further Analysis \n",
        "\n",
        "Future analysis could also use further graphical tools to examine variation in subgroups. "
      ]
    },
    {
      "cell_type": "code",
      "metadata": {
        "colab": {
          "base_uri": "https://localhost:8080/",
          "height": 1000
        },
        "id": "0iUru0qz0ets",
        "outputId": "10782adb-c020-478c-9160-b0ca55db67c7"
      },
      "source": [
        "%%R\n",
        "# install_github(\"vqv/ggbiplot\")\n",
        " library(ggbiplot)\n",
        "ggbiplot(PCA,ellipse=TRUE, groups= data$education)\n",
        "#autoplot(PCA, colour = \"lukashenko_share\", loadings =T,loading.label =T,loadings.label.size = 20)"
      ],
      "execution_count": 109,
      "outputs": [
        {
          "output_type": "stream",
          "text": [
            "R[write to console]: Loading required package: plyr\n",
            "\n",
            "R[write to console]: ------------------------------------------------------------------------------\n",
            "\n",
            "R[write to console]: You have loaded plyr after dplyr - this is likely to cause problems.\n",
            "If you need functions from both plyr and dplyr, please load plyr first, then dplyr:\n",
            "library(plyr); library(dplyr)\n",
            "\n",
            "R[write to console]: ------------------------------------------------------------------------------\n",
            "\n",
            "R[write to console]: \n",
            "Attaching package: ‘plyr’\n",
            "\n",
            "\n",
            "R[write to console]: The following objects are masked from ‘package:dplyr’:\n",
            "\n",
            "    arrange, count, desc, failwith, id, mutate, rename, summarise,\n",
            "    summarize\n",
            "\n",
            "\n",
            "R[write to console]: The following object is masked from ‘package:purrr’:\n",
            "\n",
            "    compact\n",
            "\n",
            "\n",
            "R[write to console]: Loading required package: scales\n",
            "\n",
            "R[write to console]: \n",
            "Attaching package: ‘scales’\n",
            "\n",
            "\n",
            "R[write to console]: The following object is masked from ‘package:plotrix’:\n",
            "\n",
            "    rescale\n",
            "\n",
            "\n",
            "R[write to console]: The following object is masked from ‘package:purrr’:\n",
            "\n",
            "    discard\n",
            "\n",
            "\n",
            "R[write to console]: The following object is masked from ‘package:readr’:\n",
            "\n",
            "    col_factor\n",
            "\n",
            "\n",
            "R[write to console]: Loading required package: grid\n",
            "\n",
            "R[write to console]: \n",
            "Attaching package: ‘ggbiplot’\n",
            "\n",
            "\n",
            "R[write to console]: The following object is masked from ‘package:ggfortify’:\n",
            "\n",
            "    ggbiplot\n",
            "\n",
            "\n"
          ],
          "name": "stderr"
        },
        {
          "output_type": "display_data",
          "data": {
            "image/png": "[encoded data removed]"
          },
          "metadata": {
            "tags": []
          }
        }
      ]
    },
    {
      "cell_type": "markdown",
      "metadata": {
        "id": "Zs-orD9ejbxK"
      },
      "source": [
        "# Alternative Methods: Unsupervised Learning via Latent Dirichlet Allocation \n",
        "\n"
      ]
    },
    {
      "cell_type": "code",
      "metadata": {
        "id": "Ob8FW2Rt1j-4"
      },
      "source": [
        "%%R\n",
        "install.packages(\"topicmodels\")\n",
        "#install.packages(\"tidytext\")\n",
        "#install.packages(\"lda\")\n",
        "#install.packages(\"tm\")\n",
        "\n",
        "library(tidyverse)\n",
        "library(tidytext)\n",
        "library(topicmodels)\n",
        "library(lda)\n",
        "library(tm)"
      ],
      "execution_count": null,
      "outputs": []
    },
    {
      "cell_type": "code",
      "metadata": {
        "colab": {
          "base_uri": "https://localhost:8080/"
        },
        "id": "yIYrETrE4BrQ",
        "outputId": "988ab69e-d73e-468a-dc75-86ba477cba34"
      },
      "source": [
        "%%R\n",
        "install.packages(\"githubinstall\")\n",
        "library(githubinstall)\n",
        "githubinstall(\"topicmodels\")\n",
        "#library(tm)\n",
        "library(topicmodels)"
      ],
      "execution_count": 1,
      "outputs": [
        {
          "output_type": "stream",
          "text": [
            "UsageError: Cell magic `%%R` not found.\n"
          ],
          "name": "stderr"
        }
      ]
    },
    {
      "cell_type": "code",
      "metadata": {
        "colab": {
          "base_uri": "https://localhost:8080/"
        },
        "id": "lKmbPTh26ax1",
        "outputId": "0aa96908-bd43-43f5-b289-f620739568c8"
      },
      "source": [
        "%%R\n",
        "install.packages(\"lda\")\n",
        "library(lda)"
      ],
      "execution_count": 2,
      "outputs": [
        {
          "output_type": "stream",
          "text": [
            "UsageError: Cell magic `%%R` not found.\n"
          ],
          "name": "stderr"
        }
      ]
    },
    {
      "cell_type": "code",
      "metadata": {
        "id": "FMW-f0OkjSSl"
      },
      "source": [
        "%%R\n",
        "data = read_excel(\"/df_merge_n.xlsx\")\n",
        "data = unite(data, col = \"text\", commission_code:economics, sep =\" \")\n",
        "summary(data)"
      ],
      "execution_count": null,
      "outputs": []
    },
    {
      "cell_type": "markdown",
      "metadata": {
        "id": "HXtMIT1akVvu"
      },
      "source": [
        "## Cleaning the Text data \n"
      ]
    },
    {
      "cell_type": "code",
      "metadata": {
        "id": "oobt4iWhj49Z"
      },
      "source": [
        "%%R\n",
        "data = data %>%\n",
        "  select(\"text\")\n",
        "\n",
        "cleaner <- function(text){\n",
        "  text <- tolower(text)\n",
        "  text <- gsub(\"rt\", \"\", text)\n",
        "  text <- gsub(\"@\\\\w+\", \"\", text)\n",
        "  text <- gsub(\"[[:punct:]]\", \"\", text)\n",
        "  text <- gsub(\"http\\\\w+\", \"\", text)\n",
        "  text <- gsub(\"amp\", \" \", text)\n",
        "  text <- gsub(\"[ |\\t]{2,}\", \"\", text)\n",
        "  text <- gsub(\"^ \", \"\", text)\n",
        "  text <- gsub(\" $\", \"\", text)\n",
        "  text <- gsub(\" +\", \" \", text)\n",
        "  text <- gsub(\"=\", \" \", text)\n",
        "  text <- gsub('<.*>', '', enc2native(text))\n",
        "  text <- unique(text)\n",
        "  return(text)\n",
        "}"
      ],
      "execution_count": null,
      "outputs": []
    },
    {
      "cell_type": "code",
      "metadata": {
        "colab": {
          "base_uri": "https://localhost:8080/"
        },
        "id": "rvcyy-hO7rG_",
        "outputId": "c6e0b1ea-a969-45ac-d4e0-b811cd154dd7"
      },
      "source": [
        "%%R\n",
        "polish <- function(text){\n",
        "  text <- VCorpus(VectorSource(text))\n",
        "  text <- tm_map(text, removeWords, stopwords(\"russian\")) # used to be english, still WIP\n",
        "  text <- tm_map(text, removeNumbers)\n",
        "  text <- tm_map(text, stemDocument)\n",
        "}"
      ],
      "execution_count": 4,
      "outputs": [
        {
          "output_type": "stream",
          "text": [
            "UsageError: Cell magic `%%R` not found.\n"
          ],
          "name": "stderr"
        }
      ]
    },
    {
      "cell_type": "code",
      "metadata": {
        "id": "56ie55d_j9qz"
      },
      "source": [
        "%%R\n",
        "text = data$text \n",
        "text <- cleaner(text)\n",
        "corpus <- polish(text)"
      ],
      "execution_count": null,
      "outputs": []
    },
    {
      "cell_type": "code",
      "metadata": {
        "id": "um8ybhn_7tEa"
      },
      "source": [
        "%%R\n",
        "doc.lengths <- rowSums(as.matrix(DocumentTermMatrix(corpus)))\n",
        "dtm <- DocumentTermMatrix(corpus[doc.lengths > 0])\n"
      ],
      "execution_count": null,
      "outputs": []
    },
    {
      "cell_type": "markdown",
      "metadata": {
        "id": "1ny2emoQ8Z2d"
      },
      "source": [
        "## Setting up our Topic Model using VEM\n"
      ]
    },
    {
      "cell_type": "code",
      "metadata": {
        "id": "x6_A8QDcj7gt"
      },
      "source": [
        "%%R\n",
        "\n",
        "LDA_V <- LDA(dtm, k =3,method = \"VEM\", cotrol = list(seed=1234))\n",
        "topics_1 <- tidy(LDA_V, matrix =\"beta\")"
      ],
      "execution_count": null,
      "outputs": []
    },
    {
      "cell_type": "markdown",
      "metadata": {
        "id": "3HknMXNk8k9b"
      },
      "source": [
        "Next we can order the terms and select only the top 10 terms. "
      ]
    },
    {
      "cell_type": "code",
      "metadata": {
        "id": "0nZZ1fUG7v7h"
      },
      "source": [
        "%%R\n",
        "ap_top_terms <- topics_1 %>%\n",
        "  group_by(topic) %>%\n",
        "  top_n(10, beta) %>%\n",
        "  ungroup() %>%\n",
        "  arrange(topic, -beta)"
      ],
      "execution_count": null,
      "outputs": []
    },
    {
      "cell_type": "markdown",
      "metadata": {
        "id": "dL2IRSEk8ltY"
      },
      "source": [
        "Now we can plot these terms using ggplot: "
      ]
    },
    {
      "cell_type": "code",
      "metadata": {
        "id": "oYpyb07_77cQ"
      },
      "source": [
        "%%R\n",
        "ap_top_terms %>%\n",
        "  mutate(term = reorder_within(term, beta, topic)) %>%\n",
        "  ggplot(aes(term, beta, fill = factor(topic))) +\n",
        "  geom_col(show.legend = FALSE) +\n",
        "  facet_wrap(~ topic, scales = \"free\") +\n",
        "  coord_flip() +\n",
        "  scale_x_reordered()"
      ],
      "execution_count": null,
      "outputs": []
    },
    {
      "cell_type": "markdown",
      "metadata": {
        "id": "aCclaQDi8KSI"
      },
      "source": [
        "## Topic Model with Gibbs sampling \n",
        "\n",
        "We can also modify our topic model by using gibbs sampling"
      ]
    },
    {
      "cell_type": "code",
      "metadata": {
        "id": "eP0iCgdJ7-6k"
      },
      "source": [
        "%%R\n",
        "LDA_G <- LDA(x=dtm, k=2, method=\"Gibbs\",control=list(alpha=1, delta=0.1, seed=10005))\n",
        "topics_2 <- tidy(LDA_V, matrix =\"beta\")\n",
        "\n",
        "ap_top_terms <- topics_2 %>%\n",
        "  group_by(topic) %>%\n",
        "  top_n(10, beta) %>%\n",
        "  ungroup() %>%\n",
        "  arrange(topic, -beta)\n",
        "\n",
        "  ap_top_terms %>%\n",
        "  mutate(term = reorder_within(term, beta, topic)) %>%\n",
        "  ggplot(aes(term, beta, fill = factor(topic))) +\n",
        "  geom_col(show.legend = FALSE) +\n",
        "  facet_wrap(~ topic, scales = \"free\") +\n",
        "  coord_flip() +\n",
        "  scale_x_reordered()"
      ],
      "execution_count": null,
      "outputs": []
    },
    {
      "cell_type": "markdown",
      "metadata": {
        "id": "j8aHAJwvkRv-"
      },
      "source": [
        "# Geospatial Analysis (#TODO)\n",
        "\n",
        "We cal also plot the votes by area. \n"
      ]
    },
    {
      "cell_type": "code",
      "metadata": {
        "id": "Ed8fPx93kREU"
      },
      "source": [
        "%%R\n",
        "library(ggplot2)\n",
        "library(sf)\n",
        "library(maps)\n",
        "\n",
        "geo = st_read(\"~/Downloads/BelarusElections 4/gis files for BLR and poland/BLR_Adm/BLR_adm2.shp\")\n",
        "dist = st_read(\"~/Downloads/BelarusElections 4/gis files for BLR and poland/BLR_Adm/BLR_adm1.shp\")\n",
        "road = st_read(\"~/Downloads/BelarusElections 4/gis files for BLR and poland/BLR_rds/BLR_roads.shp\")\n",
        "data <- read_excel(\"df_merge_d.xlsx\", sheet = \"Sheet1\")\n",
        "\n",
        "merge(geo, data, by.x= region, by.y=region)\n",
        "\n",
        "plot = ggplot()+ geom_sf(data = geo, mapping = aes(geometry = geometry)) + \n",
        "  geom_sf(data= dist, aes(geometry = geometry)) + \n",
        "  geom_sf(data= road, aes(geometry = geometry)) \n",
        "\n",
        "map = plot + geom_point(data = bela, mapping = aes(fill = \"region\")) + coord_sf()\n",
        "map\n"
      ],
      "execution_count": null,
      "outputs": []
    },
    {
      "cell_type": "markdown",
      "metadata": {
        "id": "FDA61DiV9w8C"
      },
      "source": [
        "## Optional: Network Analysis \n",
        "\n"
      ]
    },
    {
      "cell_type": "code",
      "metadata": {
        "id": "xNTLImWT90yy"
      },
      "source": [
        "%%R\n",
        "install.packages(\"ggraph\")\n",
        "install.packages(\"igraph\")\n",
        "library(ggraph)\n",
        "library(igraph)\n",
        "\n",
        "trigrams_separated <- trigram %>%\n",
        "  separate(trigram, c(\"word1\", \"word2\"), sep = \" \")\n",
        "\n",
        "trigrams_filtered <- trigrams_separated %>%\n",
        "  filter(!word1 %in% c(\"\")) %>%\n",
        "  filter(!word2 %in% stop_words$word)\n",
        "\n",
        "# new bigram counts:\n",
        "trigram_counts <- trigrams_filtered %>% \n",
        "  count(word1, word2, sort = TRUE)\n",
        "trigram_counts\n",
        "trigram_graph <- trigram_counts %>%\n",
        "  filter(n > 800) %>%\n",
        "  graph_from_data_frame()\n",
        "\n",
        "ggraph(trigram_graph, layout = \"fr\") +\n",
        "  geom_edge_link() +\n",
        "  geom_node_point() +\n",
        "  geom_node_text(aes(label = name), vjust = 1, hjust = 1)\n",
        "\n",
        "\n",
        "trigrams_filtered %>%\n",
        "    filter(!(word1 == \"na\")) %>%\n",
        "  filter(!(word2 == \"na\")) %>%\n",
        "  count(word1, sort = TRUE)"
      ],
      "execution_count": null,
      "outputs": []
    },
    {
      "cell_type": "code",
      "metadata": {
        "id": "AWSRGIf598_F"
      },
      "source": [
        "%%R\n",
        "a <- grid::arrow(type = \"closed\", length = unit(.15, \"inches\"))\n",
        "\n",
        "ggraph(trigram_graph, layout = \"fr\") +\n",
        "  geom_edge_link(aes(edge_alpha = n), show.legend = FALSE,\n",
        "                 arrow = a, end_cap = circle(.07, 'inches')) +\n",
        "  geom_node_point(color = \"lightblue\", size = 5) +\n",
        "  geom_node_text(aes(label = name), vjust = 1, hjust = 1) +\n",
        "  theme_void()"
      ],
      "execution_count": null,
      "outputs": []
    }
  ]
}