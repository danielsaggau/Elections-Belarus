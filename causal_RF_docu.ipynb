{
  "nbformat": 4,
  "nbformat_minor": 0,
  "metadata": {
    "colab": {
      "name": "causal_RF_docu.ipynb",
      "provenance": [],
      "authorship_tag": "ABX9TyObBcCiqgrv3NUZkE2z9UzA",
      "include_colab_link": true
    },
    "kernelspec": {
      "name": "python3",
      "display_name": "Python 3"
    }
  },
  "cells": [
    {
      "cell_type": "markdown",
      "metadata": {
        "id": "view-in-github",
        "colab_type": "text"
      },
      "source": [
        "<a href=\"https://colab.research.google.com/github/danielsaggau/Elections-Belarus/blob/main/causal_RF_docu.ipynb\" target=\"_parent\"><img src=\"https://colab.research.google.com/assets/colab-badge.svg\" alt=\"Open In Colab\"/></a>"
      ]
    },
    {
      "cell_type": "code",
      "metadata": {
        "colab": {
          "base_uri": "https://localhost:8080/"
        },
        "id": "8Zy6RNSnj70D",
        "outputId": "b00402d9-dd2d-48ff-d49b-ff557e0c344e"
      },
      "source": [
        "!pip install econml"
      ],
      "execution_count": 1,
      "outputs": [
        {
          "output_type": "stream",
          "text": [
            "Collecting econml\n",
            "\u001b[?25l  Downloading https://files.pythonhosted.org/packages/35/fc/6c8aef63d68d6695e6aba5307b98ffb31390e1e4d22a0fec6704b61f40a9/econml-0.9.0-cp37-cp37m-manylinux2010_x86_64.whl (2.6MB)\n",
            "\u001b[K     |████████████████████████████████| 2.6MB 8.7MB/s \n",
            "\u001b[?25hRequirement already satisfied: pandas in /usr/local/lib/python3.7/dist-packages (from econml) (1.1.5)\n",
            "Requirement already satisfied: graphviz in /usr/local/lib/python3.7/dist-packages (from econml) (0.10.1)\n",
            "Collecting scikit-learn>=0.24\n",
            "\u001b[?25l  Downloading https://files.pythonhosted.org/packages/f3/74/eb899f41d55f957e2591cde5528e75871f817d9fb46d4732423ecaca736d/scikit_learn-0.24.1-cp37-cp37m-manylinux2010_x86_64.whl (22.3MB)\n",
            "\u001b[K     |████████████████████████████████| 22.3MB 63.9MB/s \n",
            "\u001b[?25hCollecting sparse\n",
            "\u001b[?25l  Downloading https://files.pythonhosted.org/packages/e3/82/d58361f8107e8686196b91319edf2c26490667b8340cc229b668ee7a1582/sparse-0.11.2-py2.py3-none-any.whl (73kB)\n",
            "\u001b[K     |████████████████████████████████| 81kB 8.6MB/s \n",
            "\u001b[?25hRequirement already satisfied: numpy in /usr/local/lib/python3.7/dist-packages (from econml) (1.19.5)\n",
            "Requirement already satisfied: scipy>1.4.0 in /usr/local/lib/python3.7/dist-packages (from econml) (1.4.1)\n",
            "Requirement already satisfied: joblib>=0.13.0 in /usr/local/lib/python3.7/dist-packages (from econml) (1.0.1)\n",
            "Collecting shap~=0.38.1\n",
            "\u001b[?25l  Downloading https://files.pythonhosted.org/packages/44/20/54381999efe3000f70a7f68af79ba857cfa3f82278ab0e02e6ba1c06b002/shap-0.38.1.tar.gz (352kB)\n",
            "\u001b[K     |████████████████████████████████| 358kB 50.6MB/s \n",
            "\u001b[?25hRequirement already satisfied: numba!=0.42.1 in /usr/local/lib/python3.7/dist-packages (from econml) (0.51.2)\n",
            "Requirement already satisfied: statsmodels>=0.9 in /usr/local/lib/python3.7/dist-packages (from econml) (0.10.2)\n",
            "Collecting dowhy\n",
            "\u001b[?25l  Downloading https://files.pythonhosted.org/packages/53/3f/92501b494231cd905a2b7d9b93555b2c1dbdc2140fec1f3c762d842862a1/dowhy-0.5.1-py3-none-any.whl (119kB)\n",
            "\u001b[K     |████████████████████████████████| 122kB 53.1MB/s \n",
            "\u001b[?25hRequirement already satisfied: pytz>=2017.2 in /usr/local/lib/python3.7/dist-packages (from pandas->econml) (2018.9)\n",
            "Requirement already satisfied: python-dateutil>=2.7.3 in /usr/local/lib/python3.7/dist-packages (from pandas->econml) (2.8.1)\n",
            "Collecting threadpoolctl>=2.0.0\n",
            "  Downloading https://files.pythonhosted.org/packages/f7/12/ec3f2e203afa394a149911729357aa48affc59c20e2c1c8297a60f33f133/threadpoolctl-2.1.0-py3-none-any.whl\n",
            "Requirement already satisfied: tqdm>4.25.0 in /usr/local/lib/python3.7/dist-packages (from shap~=0.38.1->econml) (4.41.1)\n",
            "Collecting slicer==0.0.7\n",
            "  Downloading https://files.pythonhosted.org/packages/78/c2/b3f55dfdb8af9812fdb9baf70cacf3b9e82e505b2bd4324d588888b81202/slicer-0.0.7-py3-none-any.whl\n",
            "Requirement already satisfied: cloudpickle in /usr/local/lib/python3.7/dist-packages (from shap~=0.38.1->econml) (1.3.0)\n",
            "Requirement already satisfied: llvmlite<0.35,>=0.34.0.dev0 in /usr/local/lib/python3.7/dist-packages (from numba!=0.42.1->econml) (0.34.0)\n",
            "Requirement already satisfied: setuptools in /usr/local/lib/python3.7/dist-packages (from numba!=0.42.1->econml) (53.0.0)\n",
            "Requirement already satisfied: patsy>=0.4.0 in /usr/local/lib/python3.7/dist-packages (from statsmodels>=0.9->econml) (0.5.1)\n",
            "Requirement already satisfied: networkx>=2.0 in /usr/local/lib/python3.7/dist-packages (from dowhy->econml) (2.5)\n",
            "Collecting pydot>=1.4\n",
            "  Downloading https://files.pythonhosted.org/packages/ea/76/75b1bb82e9bad3e3d656556eaa353d8cd17c4254393b08ec9786ac8ed273/pydot-1.4.2-py2.py3-none-any.whl\n",
            "Requirement already satisfied: sympy>=1.4 in /usr/local/lib/python3.7/dist-packages (from dowhy->econml) (1.7.1)\n",
            "Requirement already satisfied: matplotlib in /usr/local/lib/python3.7/dist-packages (from dowhy->econml) (3.2.2)\n",
            "Requirement already satisfied: six>=1.5 in /usr/local/lib/python3.7/dist-packages (from python-dateutil>=2.7.3->pandas->econml) (1.15.0)\n",
            "Requirement already satisfied: decorator>=4.3.0 in /usr/local/lib/python3.7/dist-packages (from networkx>=2.0->dowhy->econml) (4.4.2)\n",
            "Requirement already satisfied: pyparsing>=2.1.4 in /usr/local/lib/python3.7/dist-packages (from pydot>=1.4->dowhy->econml) (2.4.7)\n",
            "Requirement already satisfied: mpmath>=0.19 in /usr/local/lib/python3.7/dist-packages (from sympy>=1.4->dowhy->econml) (1.2.1)\n",
            "Requirement already satisfied: kiwisolver>=1.0.1 in /usr/local/lib/python3.7/dist-packages (from matplotlib->dowhy->econml) (1.3.1)\n",
            "Requirement already satisfied: cycler>=0.10 in /usr/local/lib/python3.7/dist-packages (from matplotlib->dowhy->econml) (0.10.0)\n",
            "Building wheels for collected packages: shap\n",
            "  Building wheel for shap (setup.py) ... \u001b[?25l\u001b[?25hdone\n",
            "  Created wheel for shap: filename=shap-0.38.1-cp37-cp37m-linux_x86_64.whl size=490499 sha256=2c9eee4932b09e572df5b84907dfd9a9e8e623505f09b25cbfe9d1e9bca4f859\n",
            "  Stored in directory: /root/.cache/pip/wheels/a8/fb/e4/88012be41842b9be62ae18d82d1b1e880daf8539d1fef1fa00\n",
            "Successfully built shap\n",
            "Installing collected packages: threadpoolctl, scikit-learn, sparse, slicer, shap, pydot, dowhy, econml\n",
            "  Found existing installation: scikit-learn 0.22.2.post1\n",
            "    Uninstalling scikit-learn-0.22.2.post1:\n",
            "      Successfully uninstalled scikit-learn-0.22.2.post1\n",
            "  Found existing installation: pydot 1.3.0\n",
            "    Uninstalling pydot-1.3.0:\n",
            "      Successfully uninstalled pydot-1.3.0\n",
            "Successfully installed dowhy-0.5.1 econml-0.9.0 pydot-1.4.2 scikit-learn-0.24.1 shap-0.38.1 slicer-0.0.7 sparse-0.11.2 threadpoolctl-2.1.0\n"
          ],
          "name": "stdout"
        }
      ]
    },
    {
      "cell_type": "code",
      "metadata": {
        "colab": {
          "base_uri": "https://localhost:8080/"
        },
        "id": "vunEL1Bjj3Oh",
        "outputId": "27a589b6-1411-4e13-8477-19373c835c8e"
      },
      "source": [
        "# Use \"pip install econml\" on the command line to install the package\n",
        "import pandas as pd\n",
        "from sklearn.model_selection import train_test_split\n",
        "from sklearn.tree import DecisionTreeRegressor\n",
        "from econml.ortho_forest import ContinuousTreatmentOrthoForest as CausalForest"
      ],
      "execution_count": 2,
      "outputs": [
        {
          "output_type": "stream",
          "text": [
            "/usr/local/lib/python3.7/dist-packages/statsmodels/tools/_testing.py:19: FutureWarning: pandas.util.testing is deprecated. Use the functions in the public API at pandas.testing instead.\n",
            "  import pandas.util.testing as tm\n"
          ],
          "name": "stderr"
        }
      ]
    },
    {
      "cell_type": "code",
      "metadata": {
        "colab": {
          "base_uri": "https://localhost:8080/"
        },
        "id": "qRvtMFGgj6jI",
        "outputId": "46da30b7-1924-4dd3-8c0b-bc5b5e4fd3ee"
      },
      "source": [
        "\n",
        "df = pd.read_csv('https://vincentarelbundock.github.io/Rdatasets/csv/Ecdat/Crime.csv')\n",
        "\n",
        "# Set the categorical variables:\n",
        "cat_vars = ['year', 'region', 'smsa']\n",
        "# Transform the categorical variables to dummies and add them back in\n",
        "xf = pd.get_dummies(df[cat_vars])\n",
        "df = pd.concat([df.drop(cat_vars, axis=1), xf], axis=1)\n",
        "cat_var_dummy_names = list(xf.columns)\n",
        "\n",
        "regressors = ['prbarr', 'prbconv', 'prbpris',\n",
        "              'avgsen', 'polpc', 'density', 'taxpc',\n",
        "              'pctmin', 'wcon']\n",
        "# Add in the dummy names to the list of regressors\n",
        "regressors = regressors + cat_var_dummy_names\n",
        "\n",
        "# Split into train and test\n",
        "train, test = train_test_split(df, test_size=0.2)\n",
        "\n",
        "# Estimate causal forest\n",
        "estimator = CausalForest(n_trees=100,\n",
        "                         model_T=DecisionTreeRegressor(),\n",
        "                         model_Y=DecisionTreeRegressor())\n",
        "estimator.fit(train['crmrte'],\n",
        "              train['pctymle'],\n",
        "              train[regressors],\n",
        "              inference='blb')\n",
        "effects_train = estimator.effect(train[regressors])\n",
        "effects_test = estimator.effect(test[regressors])\n",
        "conf_intrvl = estimator.effect_interval(test[regressors])"
      ],
      "execution_count": 3,
      "outputs": [
        {
          "output_type": "stream",
          "text": [
            "The econml.ortho_forest.ContinuousTreatmentOrthoForest class has been renamed to econml.orf.DMLOrthoForest; an upcoming release will remove support for the old name\n",
            "X and W should be passed by keyword only. In a future release we will disallow passing X and W by position.\n",
            "[Parallel(n_jobs=-1)]: Using backend LokyBackend with 2 concurrent workers.\n",
            "[Parallel(n_jobs=-1)]: Done  32 tasks      | elapsed:    7.4s\n",
            "[Parallel(n_jobs=-1)]: Done 100 out of 100 | elapsed:    7.7s finished\n",
            "[Parallel(n_jobs=-1)]: Using backend LokyBackend with 2 concurrent workers.\n",
            "[Parallel(n_jobs=-1)]: Done 100 out of 100 | elapsed:    0.4s finished\n",
            "[Parallel(n_jobs=-1)]: Using backend LokyBackend with 2 concurrent workers.\n",
            "[Parallel(n_jobs=-1)]: Done  30 tasks      | elapsed:    7.3s\n",
            "[Parallel(n_jobs=-1)]: Done 504 out of 504 | elapsed:   12.3s finished\n",
            "[Parallel(n_jobs=-1)]: Using backend LokyBackend with 2 concurrent workers.\n",
            "[Parallel(n_jobs=-1)]: Done 126 out of 126 | elapsed:    1.4s finished\n",
            "[Parallel(n_jobs=-1)]: Using backend LokyBackend with 2 concurrent workers.\n",
            "[Parallel(n_jobs=-1)]: Done 126 out of 126 | elapsed:    1.8s finished\n"
          ],
          "name": "stderr"
        }
      ]
    }
  ]
}